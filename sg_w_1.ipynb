{
 "cells": [
  {
   "cell_type": "code",
   "execution_count": 2,
   "metadata": {},
   "outputs": [],
   "source": [
    "import numpy as np\n",
    "import pandas as pd\n",
    "import requests"
   ]
  },
  {
   "cell_type": "markdown",
   "metadata": {},
   "source": [
    "# PART 1"
   ]
  },
  {
   "cell_type": "code",
   "execution_count": 3,
   "metadata": {},
   "outputs": [
    {
     "data": {
      "text/html": [
       "<div>\n",
       "<style scoped>\n",
       "    .dataframe tbody tr th:only-of-type {\n",
       "        vertical-align: middle;\n",
       "    }\n",
       "\n",
       "    .dataframe tbody tr th {\n",
       "        vertical-align: top;\n",
       "    }\n",
       "\n",
       "    .dataframe thead th {\n",
       "        text-align: right;\n",
       "    }\n",
       "</style>\n",
       "<table border=\"1\" class=\"dataframe\">\n",
       "  <thead>\n",
       "    <tr style=\"text-align: right;\">\n",
       "      <th></th>\n",
       "      <th>index</th>\n",
       "      <th>Postal Code</th>\n",
       "      <th>Borough</th>\n",
       "      <th>Neighborhood</th>\n",
       "    </tr>\n",
       "  </thead>\n",
       "  <tbody>\n",
       "    <tr>\n",
       "      <th>0</th>\n",
       "      <td>2</td>\n",
       "      <td>M3A</td>\n",
       "      <td>North York</td>\n",
       "      <td>Parkwoods</td>\n",
       "    </tr>\n",
       "    <tr>\n",
       "      <th>1</th>\n",
       "      <td>3</td>\n",
       "      <td>M4A</td>\n",
       "      <td>North York</td>\n",
       "      <td>Victoria Village</td>\n",
       "    </tr>\n",
       "    <tr>\n",
       "      <th>2</th>\n",
       "      <td>4</td>\n",
       "      <td>M5A</td>\n",
       "      <td>Downtown Toronto</td>\n",
       "      <td>Regent Park, Harbourfront</td>\n",
       "    </tr>\n",
       "    <tr>\n",
       "      <th>3</th>\n",
       "      <td>5</td>\n",
       "      <td>M6A</td>\n",
       "      <td>North York</td>\n",
       "      <td>Lawrence Manor, Lawrence Heights</td>\n",
       "    </tr>\n",
       "    <tr>\n",
       "      <th>4</th>\n",
       "      <td>6</td>\n",
       "      <td>M7A</td>\n",
       "      <td>Downtown Toronto</td>\n",
       "      <td>Queen's Park, Ontario Provincial Government</td>\n",
       "    </tr>\n",
       "  </tbody>\n",
       "</table>\n",
       "</div>"
      ],
      "text/plain": [
       "   index Postal Code           Borough  \\\n",
       "0      2         M3A        North York   \n",
       "1      3         M4A        North York   \n",
       "2      4         M5A  Downtown Toronto   \n",
       "3      5         M6A        North York   \n",
       "4      6         M7A  Downtown Toronto   \n",
       "\n",
       "                                  Neighborhood  \n",
       "0                                    Parkwoods  \n",
       "1                             Victoria Village  \n",
       "2                    Regent Park, Harbourfront  \n",
       "3             Lawrence Manor, Lawrence Heights  \n",
       "4  Queen's Park, Ontario Provincial Government  "
      ]
     },
     "execution_count": 3,
     "metadata": {},
     "output_type": "execute_result"
    }
   ],
   "source": [
    "wiki = 'https://en.wikipedia.org/wiki/List_of_postal_codes_of_Canada:_M'\n",
    "wiki_page = requests.get(wiki)\n",
    "\n",
    "wiki_raw = pd.read_html(wiki_page.content, header = 0)[0]\n",
    "df = wiki_raw[wiki_raw.Neighborhood != 'Not assigned']\n",
    "df.reset_index(inplace = True)\n",
    "df.head()"
   ]
  },
  {
   "cell_type": "code",
   "execution_count": 4,
   "metadata": {},
   "outputs": [
    {
     "data": {
      "text/html": [
       "<div>\n",
       "<style scoped>\n",
       "    .dataframe tbody tr th:only-of-type {\n",
       "        vertical-align: middle;\n",
       "    }\n",
       "\n",
       "    .dataframe tbody tr th {\n",
       "        vertical-align: top;\n",
       "    }\n",
       "\n",
       "    .dataframe thead th {\n",
       "        text-align: right;\n",
       "    }\n",
       "</style>\n",
       "<table border=\"1\" class=\"dataframe\">\n",
       "  <thead>\n",
       "    <tr style=\"text-align: right;\">\n",
       "      <th></th>\n",
       "      <th>index</th>\n",
       "      <th>Borough</th>\n",
       "      <th>Neighborhood</th>\n",
       "    </tr>\n",
       "    <tr>\n",
       "      <th>Postal Code</th>\n",
       "      <th></th>\n",
       "      <th></th>\n",
       "      <th></th>\n",
       "    </tr>\n",
       "  </thead>\n",
       "  <tbody>\n",
       "    <tr>\n",
       "      <th>M1B</th>\n",
       "      <td>9</td>\n",
       "      <td>Scarborough</td>\n",
       "      <td>Malvern, Rouge</td>\n",
       "    </tr>\n",
       "    <tr>\n",
       "      <th>M1C</th>\n",
       "      <td>18</td>\n",
       "      <td>Scarborough</td>\n",
       "      <td>Rouge Hill, Port Union, Highland Creek</td>\n",
       "    </tr>\n",
       "    <tr>\n",
       "      <th>M1E</th>\n",
       "      <td>27</td>\n",
       "      <td>Scarborough</td>\n",
       "      <td>Guildwood, Morningside, West Hill</td>\n",
       "    </tr>\n",
       "    <tr>\n",
       "      <th>M1G</th>\n",
       "      <td>36</td>\n",
       "      <td>Scarborough</td>\n",
       "      <td>Woburn</td>\n",
       "    </tr>\n",
       "    <tr>\n",
       "      <th>M1H</th>\n",
       "      <td>45</td>\n",
       "      <td>Scarborough</td>\n",
       "      <td>Cedarbrae</td>\n",
       "    </tr>\n",
       "    <tr>\n",
       "      <th>...</th>\n",
       "      <td>...</td>\n",
       "      <td>...</td>\n",
       "      <td>...</td>\n",
       "    </tr>\n",
       "    <tr>\n",
       "      <th>M9N</th>\n",
       "      <td>98</td>\n",
       "      <td>York</td>\n",
       "      <td>Weston</td>\n",
       "    </tr>\n",
       "    <tr>\n",
       "      <th>M9P</th>\n",
       "      <td>107</td>\n",
       "      <td>Etobicoke</td>\n",
       "      <td>Westmount</td>\n",
       "    </tr>\n",
       "    <tr>\n",
       "      <th>M9R</th>\n",
       "      <td>116</td>\n",
       "      <td>Etobicoke</td>\n",
       "      <td>Kingsview Village, St. Phillips, Martin Grove ...</td>\n",
       "    </tr>\n",
       "    <tr>\n",
       "      <th>M9V</th>\n",
       "      <td>143</td>\n",
       "      <td>Etobicoke</td>\n",
       "      <td>South Steeles, Silverstone, Humbergate, Jamest...</td>\n",
       "    </tr>\n",
       "    <tr>\n",
       "      <th>M9W</th>\n",
       "      <td>152</td>\n",
       "      <td>Etobicoke</td>\n",
       "      <td>Northwest, West Humber - Clairville</td>\n",
       "    </tr>\n",
       "  </tbody>\n",
       "</table>\n",
       "<p>103 rows × 3 columns</p>\n",
       "</div>"
      ],
      "text/plain": [
       "             index      Borough  \\\n",
       "Postal Code                       \n",
       "M1B              9  Scarborough   \n",
       "M1C             18  Scarborough   \n",
       "M1E             27  Scarborough   \n",
       "M1G             36  Scarborough   \n",
       "M1H             45  Scarborough   \n",
       "...            ...          ...   \n",
       "M9N             98         York   \n",
       "M9P            107    Etobicoke   \n",
       "M9R            116    Etobicoke   \n",
       "M9V            143    Etobicoke   \n",
       "M9W            152    Etobicoke   \n",
       "\n",
       "                                                  Neighborhood  \n",
       "Postal Code                                                     \n",
       "M1B                                             Malvern, Rouge  \n",
       "M1C                     Rouge Hill, Port Union, Highland Creek  \n",
       "M1E                          Guildwood, Morningside, West Hill  \n",
       "M1G                                                     Woburn  \n",
       "M1H                                                  Cedarbrae  \n",
       "...                                                        ...  \n",
       "M9N                                                     Weston  \n",
       "M9P                                                  Westmount  \n",
       "M9R          Kingsview Village, St. Phillips, Martin Grove ...  \n",
       "M9V          South Steeles, Silverstone, Humbergate, Jamest...  \n",
       "M9W                        Northwest, West Humber - Clairville  \n",
       "\n",
       "[103 rows x 3 columns]"
      ]
     },
     "execution_count": 4,
     "metadata": {},
     "output_type": "execute_result"
    }
   ],
   "source": [
    "df.groupby(['Postal Code']).first()"
   ]
  },
  {
   "cell_type": "code",
   "execution_count": 5,
   "metadata": {},
   "outputs": [
    {
     "data": {
      "text/plain": [
       "103"
      ]
     },
     "execution_count": 5,
     "metadata": {},
     "output_type": "execute_result"
    }
   ],
   "source": [
    "len(df['Postal Code'].unique())"
   ]
  },
  {
   "cell_type": "code",
   "execution_count": 6,
   "metadata": {},
   "outputs": [
    {
     "data": {
      "text/html": [
       "<div>\n",
       "<style scoped>\n",
       "    .dataframe tbody tr th:only-of-type {\n",
       "        vertical-align: middle;\n",
       "    }\n",
       "\n",
       "    .dataframe tbody tr th {\n",
       "        vertical-align: top;\n",
       "    }\n",
       "\n",
       "    .dataframe thead th {\n",
       "        text-align: right;\n",
       "    }\n",
       "</style>\n",
       "<table border=\"1\" class=\"dataframe\">\n",
       "  <thead>\n",
       "    <tr style=\"text-align: right;\">\n",
       "      <th></th>\n",
       "      <th>index</th>\n",
       "      <th>Postal Code</th>\n",
       "      <th>Borough</th>\n",
       "      <th>Neighborhood</th>\n",
       "    </tr>\n",
       "  </thead>\n",
       "  <tbody>\n",
       "  </tbody>\n",
       "</table>\n",
       "</div>"
      ],
      "text/plain": [
       "Empty DataFrame\n",
       "Columns: [index, Postal Code, Borough, Neighborhood]\n",
       "Index: []"
      ]
     },
     "execution_count": 6,
     "metadata": {},
     "output_type": "execute_result"
    }
   ],
   "source": [
    "df[df['Borough'] == 'Not assigned']"
   ]
  },
  {
   "cell_type": "code",
   "execution_count": 7,
   "metadata": {},
   "outputs": [
    {
     "data": {
      "text/plain": [
       "(103, 4)"
      ]
     },
     "execution_count": 7,
     "metadata": {},
     "output_type": "execute_result"
    }
   ],
   "source": [
    "df.shape"
   ]
  },
  {
   "cell_type": "markdown",
   "metadata": {},
   "source": [
    "# PART 2"
   ]
  },
  {
   "cell_type": "code",
   "execution_count": 11,
   "metadata": {},
   "outputs": [
    {
     "name": "stdout",
     "output_type": "stream",
     "text": [
      "Note: you may need to restart the kernel to use updated packages.\n"
     ]
    },
    {
     "name": "stderr",
     "output_type": "stream",
     "text": [
      "'C:\\Users\\Shivang' is not recognized as an internal or external command,\n",
      "operable program or batch file.\n"
     ]
    }
   ],
   "source": [
    "pip install geocoder"
   ]
  },
  {
   "cell_type": "code",
   "execution_count": 12,
   "metadata": {},
   "outputs": [
    {
     "ename": "ModuleNotFoundError",
     "evalue": "No module named 'geocoder'",
     "output_type": "error",
     "traceback": [
      "\u001b[1;31m---------------------------------------------------------------------------\u001b[0m",
      "\u001b[1;31mModuleNotFoundError\u001b[0m                       Traceback (most recent call last)",
      "\u001b[1;32m<ipython-input-12-9ea56cf7725e>\u001b[0m in \u001b[0;36m<module>\u001b[1;34m\u001b[0m\n\u001b[1;32m----> 1\u001b[1;33m \u001b[1;32mimport\u001b[0m \u001b[0mgeocoder\u001b[0m\u001b[1;33m\u001b[0m\u001b[1;33m\u001b[0m\u001b[0m\n\u001b[0m",
      "\u001b[1;31mModuleNotFoundError\u001b[0m: No module named 'geocoder'"
     ]
    }
   ],
   "source": [
    "import geocoder"
   ]
  },
  {
   "cell_type": "code",
   "execution_count": 13,
   "metadata": {},
   "outputs": [],
   "source": [
    "url = 'http://cocl.us/Geospatial_data'"
   ]
  },
  {
   "cell_type": "code",
   "execution_count": 14,
   "metadata": {},
   "outputs": [
    {
     "data": {
      "text/html": [
       "<div>\n",
       "<style scoped>\n",
       "    .dataframe tbody tr th:only-of-type {\n",
       "        vertical-align: middle;\n",
       "    }\n",
       "\n",
       "    .dataframe tbody tr th {\n",
       "        vertical-align: top;\n",
       "    }\n",
       "\n",
       "    .dataframe thead th {\n",
       "        text-align: right;\n",
       "    }\n",
       "</style>\n",
       "<table border=\"1\" class=\"dataframe\">\n",
       "  <thead>\n",
       "    <tr style=\"text-align: right;\">\n",
       "      <th></th>\n",
       "      <th>Postal Code</th>\n",
       "      <th>Latitude</th>\n",
       "      <th>Longitude</th>\n",
       "    </tr>\n",
       "  </thead>\n",
       "  <tbody>\n",
       "    <tr>\n",
       "      <th>0</th>\n",
       "      <td>M1B</td>\n",
       "      <td>43.806686</td>\n",
       "      <td>-79.194353</td>\n",
       "    </tr>\n",
       "    <tr>\n",
       "      <th>1</th>\n",
       "      <td>M1C</td>\n",
       "      <td>43.784535</td>\n",
       "      <td>-79.160497</td>\n",
       "    </tr>\n",
       "    <tr>\n",
       "      <th>2</th>\n",
       "      <td>M1E</td>\n",
       "      <td>43.763573</td>\n",
       "      <td>-79.188711</td>\n",
       "    </tr>\n",
       "    <tr>\n",
       "      <th>3</th>\n",
       "      <td>M1G</td>\n",
       "      <td>43.770992</td>\n",
       "      <td>-79.216917</td>\n",
       "    </tr>\n",
       "    <tr>\n",
       "      <th>4</th>\n",
       "      <td>M1H</td>\n",
       "      <td>43.773136</td>\n",
       "      <td>-79.239476</td>\n",
       "    </tr>\n",
       "  </tbody>\n",
       "</table>\n",
       "</div>"
      ],
      "text/plain": [
       "  Postal Code   Latitude  Longitude\n",
       "0         M1B  43.806686 -79.194353\n",
       "1         M1C  43.784535 -79.160497\n",
       "2         M1E  43.763573 -79.188711\n",
       "3         M1G  43.770992 -79.216917\n",
       "4         M1H  43.773136 -79.239476"
      ]
     },
     "execution_count": 14,
     "metadata": {},
     "output_type": "execute_result"
    }
   ],
   "source": [
    "df_geo = pd.read_csv(url)\n",
    "df_geo.head()"
   ]
  },
  {
   "cell_type": "code",
   "execution_count": 15,
   "metadata": {},
   "outputs": [
    {
     "data": {
      "text/plain": [
       "Postal Code     object\n",
       "Latitude       float64\n",
       "Longitude      float64\n",
       "dtype: object"
      ]
     },
     "execution_count": 15,
     "metadata": {},
     "output_type": "execute_result"
    }
   ],
   "source": [
    "df_geo.dtypes"
   ]
  },
  {
   "cell_type": "code",
   "execution_count": 16,
   "metadata": {},
   "outputs": [
    {
     "data": {
      "text/plain": [
       "index            int64\n",
       "Postal Code     object\n",
       "Borough         object\n",
       "Neighborhood    object\n",
       "dtype: object"
      ]
     },
     "execution_count": 16,
     "metadata": {},
     "output_type": "execute_result"
    }
   ],
   "source": [
    "df.dtypes"
   ]
  },
  {
   "cell_type": "code",
   "execution_count": 17,
   "metadata": {},
   "outputs": [
    {
     "data": {
      "text/plain": [
       "(103, 4)"
      ]
     },
     "execution_count": 17,
     "metadata": {},
     "output_type": "execute_result"
    }
   ],
   "source": [
    "df.shape"
   ]
  },
  {
   "cell_type": "code",
   "execution_count": 18,
   "metadata": {},
   "outputs": [
    {
     "data": {
      "text/plain": [
       "(103, 3)"
      ]
     },
     "execution_count": 18,
     "metadata": {},
     "output_type": "execute_result"
    }
   ],
   "source": [
    "df_geo.shape"
   ]
  },
  {
   "cell_type": "code",
   "execution_count": 19,
   "metadata": {},
   "outputs": [
    {
     "data": {
      "text/html": [
       "<div>\n",
       "<style scoped>\n",
       "    .dataframe tbody tr th:only-of-type {\n",
       "        vertical-align: middle;\n",
       "    }\n",
       "\n",
       "    .dataframe tbody tr th {\n",
       "        vertical-align: top;\n",
       "    }\n",
       "\n",
       "    .dataframe thead th {\n",
       "        text-align: right;\n",
       "    }\n",
       "</style>\n",
       "<table border=\"1\" class=\"dataframe\">\n",
       "  <thead>\n",
       "    <tr style=\"text-align: right;\">\n",
       "      <th></th>\n",
       "      <th>index</th>\n",
       "      <th>Postal Code</th>\n",
       "      <th>Borough</th>\n",
       "      <th>Neighborhood</th>\n",
       "      <th>Latitude</th>\n",
       "      <th>Longitude</th>\n",
       "    </tr>\n",
       "  </thead>\n",
       "  <tbody>\n",
       "    <tr>\n",
       "      <th>0</th>\n",
       "      <td>2</td>\n",
       "      <td>M3A</td>\n",
       "      <td>North York</td>\n",
       "      <td>Parkwoods</td>\n",
       "      <td>43.753259</td>\n",
       "      <td>-79.329656</td>\n",
       "    </tr>\n",
       "    <tr>\n",
       "      <th>1</th>\n",
       "      <td>3</td>\n",
       "      <td>M4A</td>\n",
       "      <td>North York</td>\n",
       "      <td>Victoria Village</td>\n",
       "      <td>43.725882</td>\n",
       "      <td>-79.315572</td>\n",
       "    </tr>\n",
       "    <tr>\n",
       "      <th>2</th>\n",
       "      <td>4</td>\n",
       "      <td>M5A</td>\n",
       "      <td>Downtown Toronto</td>\n",
       "      <td>Regent Park, Harbourfront</td>\n",
       "      <td>43.654260</td>\n",
       "      <td>-79.360636</td>\n",
       "    </tr>\n",
       "    <tr>\n",
       "      <th>3</th>\n",
       "      <td>5</td>\n",
       "      <td>M6A</td>\n",
       "      <td>North York</td>\n",
       "      <td>Lawrence Manor, Lawrence Heights</td>\n",
       "      <td>43.718518</td>\n",
       "      <td>-79.464763</td>\n",
       "    </tr>\n",
       "    <tr>\n",
       "      <th>4</th>\n",
       "      <td>6</td>\n",
       "      <td>M7A</td>\n",
       "      <td>Downtown Toronto</td>\n",
       "      <td>Queen's Park, Ontario Provincial Government</td>\n",
       "      <td>43.662301</td>\n",
       "      <td>-79.389494</td>\n",
       "    </tr>\n",
       "    <tr>\n",
       "      <th>...</th>\n",
       "      <td>...</td>\n",
       "      <td>...</td>\n",
       "      <td>...</td>\n",
       "      <td>...</td>\n",
       "      <td>...</td>\n",
       "      <td>...</td>\n",
       "    </tr>\n",
       "    <tr>\n",
       "      <th>98</th>\n",
       "      <td>160</td>\n",
       "      <td>M8X</td>\n",
       "      <td>Etobicoke</td>\n",
       "      <td>The Kingsway, Montgomery Road, Old Mill North</td>\n",
       "      <td>43.653654</td>\n",
       "      <td>-79.506944</td>\n",
       "    </tr>\n",
       "    <tr>\n",
       "      <th>99</th>\n",
       "      <td>165</td>\n",
       "      <td>M4Y</td>\n",
       "      <td>Downtown Toronto</td>\n",
       "      <td>Church and Wellesley</td>\n",
       "      <td>43.665860</td>\n",
       "      <td>-79.383160</td>\n",
       "    </tr>\n",
       "    <tr>\n",
       "      <th>100</th>\n",
       "      <td>168</td>\n",
       "      <td>M7Y</td>\n",
       "      <td>East Toronto</td>\n",
       "      <td>Business reply mail Processing Centre, South C...</td>\n",
       "      <td>43.662744</td>\n",
       "      <td>-79.321558</td>\n",
       "    </tr>\n",
       "    <tr>\n",
       "      <th>101</th>\n",
       "      <td>169</td>\n",
       "      <td>M8Y</td>\n",
       "      <td>Etobicoke</td>\n",
       "      <td>Old Mill South, King's Mill Park, Sunnylea, Hu...</td>\n",
       "      <td>43.636258</td>\n",
       "      <td>-79.498509</td>\n",
       "    </tr>\n",
       "    <tr>\n",
       "      <th>102</th>\n",
       "      <td>178</td>\n",
       "      <td>M8Z</td>\n",
       "      <td>Etobicoke</td>\n",
       "      <td>Mimico NW, The Queensway West, South of Bloor,...</td>\n",
       "      <td>43.628841</td>\n",
       "      <td>-79.520999</td>\n",
       "    </tr>\n",
       "  </tbody>\n",
       "</table>\n",
       "<p>103 rows × 6 columns</p>\n",
       "</div>"
      ],
      "text/plain": [
       "     index Postal Code           Borough  \\\n",
       "0        2         M3A        North York   \n",
       "1        3         M4A        North York   \n",
       "2        4         M5A  Downtown Toronto   \n",
       "3        5         M6A        North York   \n",
       "4        6         M7A  Downtown Toronto   \n",
       "..     ...         ...               ...   \n",
       "98     160         M8X         Etobicoke   \n",
       "99     165         M4Y  Downtown Toronto   \n",
       "100    168         M7Y      East Toronto   \n",
       "101    169         M8Y         Etobicoke   \n",
       "102    178         M8Z         Etobicoke   \n",
       "\n",
       "                                          Neighborhood   Latitude  Longitude  \n",
       "0                                            Parkwoods  43.753259 -79.329656  \n",
       "1                                     Victoria Village  43.725882 -79.315572  \n",
       "2                            Regent Park, Harbourfront  43.654260 -79.360636  \n",
       "3                     Lawrence Manor, Lawrence Heights  43.718518 -79.464763  \n",
       "4          Queen's Park, Ontario Provincial Government  43.662301 -79.389494  \n",
       "..                                                 ...        ...        ...  \n",
       "98       The Kingsway, Montgomery Road, Old Mill North  43.653654 -79.506944  \n",
       "99                                Church and Wellesley  43.665860 -79.383160  \n",
       "100  Business reply mail Processing Centre, South C...  43.662744 -79.321558  \n",
       "101  Old Mill South, King's Mill Park, Sunnylea, Hu...  43.636258 -79.498509  \n",
       "102  Mimico NW, The Queensway West, South of Bloor,...  43.628841 -79.520999  \n",
       "\n",
       "[103 rows x 6 columns]"
      ]
     },
     "execution_count": 19,
     "metadata": {},
     "output_type": "execute_result"
    }
   ],
   "source": [
    "df = df.join(df_geo.set_index('Postal Code'), on='Postal Code')\n",
    "df"
   ]
  },
  {
   "cell_type": "code",
   "execution_count": 20,
   "metadata": {},
   "outputs": [],
   "source": [
    "df = df.reset_index()"
   ]
  },
  {
   "cell_type": "code",
   "execution_count": 21,
   "metadata": {},
   "outputs": [],
   "source": [
    "df.drop(['index'], axis = 'columns', inplace = True)"
   ]
  },
  {
   "cell_type": "code",
   "execution_count": 22,
   "metadata": {},
   "outputs": [],
   "source": [
    "df = df.set_index('level_0')"
   ]
  },
  {
   "cell_type": "code",
   "execution_count": 23,
   "metadata": {},
   "outputs": [
    {
     "data": {
      "text/html": [
       "<div>\n",
       "<style scoped>\n",
       "    .dataframe tbody tr th:only-of-type {\n",
       "        vertical-align: middle;\n",
       "    }\n",
       "\n",
       "    .dataframe tbody tr th {\n",
       "        vertical-align: top;\n",
       "    }\n",
       "\n",
       "    .dataframe thead th {\n",
       "        text-align: right;\n",
       "    }\n",
       "</style>\n",
       "<table border=\"1\" class=\"dataframe\">\n",
       "  <thead>\n",
       "    <tr style=\"text-align: right;\">\n",
       "      <th></th>\n",
       "      <th>Postal Code</th>\n",
       "      <th>Borough</th>\n",
       "      <th>Neighborhood</th>\n",
       "      <th>Latitude</th>\n",
       "      <th>Longitude</th>\n",
       "    </tr>\n",
       "    <tr>\n",
       "      <th>level_0</th>\n",
       "      <th></th>\n",
       "      <th></th>\n",
       "      <th></th>\n",
       "      <th></th>\n",
       "      <th></th>\n",
       "    </tr>\n",
       "  </thead>\n",
       "  <tbody>\n",
       "    <tr>\n",
       "      <th>0</th>\n",
       "      <td>M3A</td>\n",
       "      <td>North York</td>\n",
       "      <td>Parkwoods</td>\n",
       "      <td>43.753259</td>\n",
       "      <td>-79.329656</td>\n",
       "    </tr>\n",
       "    <tr>\n",
       "      <th>1</th>\n",
       "      <td>M4A</td>\n",
       "      <td>North York</td>\n",
       "      <td>Victoria Village</td>\n",
       "      <td>43.725882</td>\n",
       "      <td>-79.315572</td>\n",
       "    </tr>\n",
       "    <tr>\n",
       "      <th>2</th>\n",
       "      <td>M5A</td>\n",
       "      <td>Downtown Toronto</td>\n",
       "      <td>Regent Park, Harbourfront</td>\n",
       "      <td>43.654260</td>\n",
       "      <td>-79.360636</td>\n",
       "    </tr>\n",
       "    <tr>\n",
       "      <th>3</th>\n",
       "      <td>M6A</td>\n",
       "      <td>North York</td>\n",
       "      <td>Lawrence Manor, Lawrence Heights</td>\n",
       "      <td>43.718518</td>\n",
       "      <td>-79.464763</td>\n",
       "    </tr>\n",
       "    <tr>\n",
       "      <th>4</th>\n",
       "      <td>M7A</td>\n",
       "      <td>Downtown Toronto</td>\n",
       "      <td>Queen's Park, Ontario Provincial Government</td>\n",
       "      <td>43.662301</td>\n",
       "      <td>-79.389494</td>\n",
       "    </tr>\n",
       "  </tbody>\n",
       "</table>\n",
       "</div>"
      ],
      "text/plain": [
       "        Postal Code           Borough  \\\n",
       "level_0                                 \n",
       "0               M3A        North York   \n",
       "1               M4A        North York   \n",
       "2               M5A  Downtown Toronto   \n",
       "3               M6A        North York   \n",
       "4               M7A  Downtown Toronto   \n",
       "\n",
       "                                        Neighborhood   Latitude  Longitude  \n",
       "level_0                                                                     \n",
       "0                                          Parkwoods  43.753259 -79.329656  \n",
       "1                                   Victoria Village  43.725882 -79.315572  \n",
       "2                          Regent Park, Harbourfront  43.654260 -79.360636  \n",
       "3                   Lawrence Manor, Lawrence Heights  43.718518 -79.464763  \n",
       "4        Queen's Park, Ontario Provincial Government  43.662301 -79.389494  "
      ]
     },
     "execution_count": 23,
     "metadata": {},
     "output_type": "execute_result"
    }
   ],
   "source": [
    "df.head()"
   ]
  },
  {
   "cell_type": "code",
   "execution_count": 24,
   "metadata": {},
   "outputs": [],
   "source": [
    "df = df.rename(index = {'level_0' : 'index'})"
   ]
  },
  {
   "cell_type": "code",
   "execution_count": 25,
   "metadata": {},
   "outputs": [],
   "source": [
    "df.index.name = 'index'"
   ]
  },
  {
   "cell_type": "code",
   "execution_count": 26,
   "metadata": {},
   "outputs": [
    {
     "data": {
      "text/html": [
       "<div>\n",
       "<style scoped>\n",
       "    .dataframe tbody tr th:only-of-type {\n",
       "        vertical-align: middle;\n",
       "    }\n",
       "\n",
       "    .dataframe tbody tr th {\n",
       "        vertical-align: top;\n",
       "    }\n",
       "\n",
       "    .dataframe thead th {\n",
       "        text-align: right;\n",
       "    }\n",
       "</style>\n",
       "<table border=\"1\" class=\"dataframe\">\n",
       "  <thead>\n",
       "    <tr style=\"text-align: right;\">\n",
       "      <th></th>\n",
       "      <th>Postal Code</th>\n",
       "      <th>Borough</th>\n",
       "      <th>Neighborhood</th>\n",
       "      <th>Latitude</th>\n",
       "      <th>Longitude</th>\n",
       "    </tr>\n",
       "    <tr>\n",
       "      <th>index</th>\n",
       "      <th></th>\n",
       "      <th></th>\n",
       "      <th></th>\n",
       "      <th></th>\n",
       "      <th></th>\n",
       "    </tr>\n",
       "  </thead>\n",
       "  <tbody>\n",
       "    <tr>\n",
       "      <th>0</th>\n",
       "      <td>M3A</td>\n",
       "      <td>North York</td>\n",
       "      <td>Parkwoods</td>\n",
       "      <td>43.753259</td>\n",
       "      <td>-79.329656</td>\n",
       "    </tr>\n",
       "    <tr>\n",
       "      <th>1</th>\n",
       "      <td>M4A</td>\n",
       "      <td>North York</td>\n",
       "      <td>Victoria Village</td>\n",
       "      <td>43.725882</td>\n",
       "      <td>-79.315572</td>\n",
       "    </tr>\n",
       "    <tr>\n",
       "      <th>2</th>\n",
       "      <td>M5A</td>\n",
       "      <td>Downtown Toronto</td>\n",
       "      <td>Regent Park, Harbourfront</td>\n",
       "      <td>43.654260</td>\n",
       "      <td>-79.360636</td>\n",
       "    </tr>\n",
       "    <tr>\n",
       "      <th>3</th>\n",
       "      <td>M6A</td>\n",
       "      <td>North York</td>\n",
       "      <td>Lawrence Manor, Lawrence Heights</td>\n",
       "      <td>43.718518</td>\n",
       "      <td>-79.464763</td>\n",
       "    </tr>\n",
       "    <tr>\n",
       "      <th>4</th>\n",
       "      <td>M7A</td>\n",
       "      <td>Downtown Toronto</td>\n",
       "      <td>Queen's Park, Ontario Provincial Government</td>\n",
       "      <td>43.662301</td>\n",
       "      <td>-79.389494</td>\n",
       "    </tr>\n",
       "  </tbody>\n",
       "</table>\n",
       "</div>"
      ],
      "text/plain": [
       "      Postal Code           Borough  \\\n",
       "index                                 \n",
       "0             M3A        North York   \n",
       "1             M4A        North York   \n",
       "2             M5A  Downtown Toronto   \n",
       "3             M6A        North York   \n",
       "4             M7A  Downtown Toronto   \n",
       "\n",
       "                                      Neighborhood   Latitude  Longitude  \n",
       "index                                                                     \n",
       "0                                        Parkwoods  43.753259 -79.329656  \n",
       "1                                 Victoria Village  43.725882 -79.315572  \n",
       "2                        Regent Park, Harbourfront  43.654260 -79.360636  \n",
       "3                 Lawrence Manor, Lawrence Heights  43.718518 -79.464763  \n",
       "4      Queen's Park, Ontario Provincial Government  43.662301 -79.389494  "
      ]
     },
     "execution_count": 26,
     "metadata": {},
     "output_type": "execute_result"
    }
   ],
   "source": [
    "df.head()"
   ]
  },
  {
   "cell_type": "code",
   "execution_count": 27,
   "metadata": {},
   "outputs": [
    {
     "data": {
      "text/plain": [
       "(103, 5)"
      ]
     },
     "execution_count": 27,
     "metadata": {},
     "output_type": "execute_result"
    }
   ],
   "source": [
    "df.shape"
   ]
  },
  {
   "cell_type": "markdown",
   "metadata": {},
   "source": [
    "# PART 3"
   ]
  },
  {
   "cell_type": "code",
   "execution_count": 32,
   "metadata": {},
   "outputs": [
    {
     "name": "stdout",
     "output_type": "stream",
     "text": [
      "Collecting package metadata (current_repodata.json): ...working... done\n",
      "Solving environment: ...working... done\n",
      "\n",
      "# All requested packages already installed.\n",
      "\n",
      "Collecting geopy\n",
      "  Downloading geopy-2.0.0-py3-none-any.whl (111 kB)\n",
      "Collecting geographiclib<2,>=1.49\n",
      "  Downloading geographiclib-1.50-py3-none-any.whl (38 kB)\n",
      "Installing collected packages: geographiclib, geopy\n",
      "Successfully installed geographiclib-1.50 geopy-2.0.0\n",
      "The geograpical coordinate of Toronto are 43.6534817, -79.3839347.\n"
     ]
    }
   ],
   "source": [
    "\n",
    "!conda install -c conda-forge geocoder --yes\n",
    "import geocoder\n",
    "!pip install geopy\n",
    "\n",
    "from geopy.geocoders import Nominatim \n",
    "\n",
    "address = 'Toronto, Ontario'\n",
    "\n",
    "geolocator = Nominatim(user_agent=\"toronto_explorer\")\n",
    "location = geolocator.geocode(address)\n",
    "latitude = location.latitude\n",
    "longitude = location.longitude\n",
    "print('The geograpical coordinate of Toronto are {}, {}.'.format(latitude, longitude))"
   ]
  },
  {
   "cell_type": "code",
   "execution_count": 35,
   "metadata": {},
   "outputs": [
    {
     "name": "stdout",
     "output_type": "stream",
     "text": [
      "Requirement already satisfied: folium in c:\\users\\shivang gupta\\anaconda3\\lib\\site-packages (0.11.0)\n",
      "Requirement already satisfied: requests in c:\\users\\shivang gupta\\anaconda3\\lib\\site-packages (from folium) (2.22.0)\n",
      "Requirement already satisfied: branca>=0.3.0 in c:\\users\\shivang gupta\\anaconda3\\lib\\site-packages (from folium) (0.4.1)\n",
      "Requirement already satisfied: jinja2>=2.9 in c:\\users\\shivang gupta\\anaconda3\\lib\\site-packages (from folium) (2.11.1)\n",
      "Requirement already satisfied: numpy in c:\\users\\shivang gupta\\anaconda3\\lib\\site-packages (from folium) (1.18.1)\n",
      "Requirement already satisfied: urllib3!=1.25.0,!=1.25.1,<1.26,>=1.21.1 in c:\\users\\shivang gupta\\anaconda3\\lib\\site-packages (from requests->folium) (1.25.8)\n",
      "Requirement already satisfied: idna<2.9,>=2.5 in c:\\users\\shivang gupta\\anaconda3\\lib\\site-packages (from requests->folium) (2.8)\n",
      "Requirement already satisfied: chardet<3.1.0,>=3.0.2 in c:\\users\\shivang gupta\\anaconda3\\lib\\site-packages (from requests->folium) (3.0.4)\n",
      "Requirement already satisfied: certifi>=2017.4.17 in c:\\users\\shivang gupta\\anaconda3\\lib\\site-packages (from requests->folium) (2019.11.28)\n",
      "Requirement already satisfied: MarkupSafe>=0.23 in c:\\users\\shivang gupta\\anaconda3\\lib\\site-packages (from jinja2>=2.9->folium) (1.1.1)\n"
     ]
    },
    {
     "data": {
      "text/html": [
       "<div style=\"width:100%;\"><div style=\"position:relative;width:100%;height:0;padding-bottom:60%;\"><span style=\"color:#565656\">Make this Notebook Trusted to load map: File -> Trust Notebook</span><iframe src=\"about:blank\" style=\"position:absolute;width:100%;height:100%;left:0;top:0;border:none !important;\" data-html=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 onload=\"this.contentDocument.open();this.contentDocument.write(atob(this.getAttribute('data-html')));this.contentDocument.close();\" allowfullscreen webkitallowfullscreen mozallowfullscreen></iframe></div></div>"
      ],
      "text/plain": [
       "<folium.folium.Map at 0x1eb4a5fb048>"
      ]
     },
     "execution_count": 35,
     "metadata": {},
     "output_type": "execute_result"
    }
   ],
   "source": [
    "!pip install folium\n",
    "import folium\n",
    "\n",
    "# create map of Toronto using latitude and longitude values\n",
    "map_Toronto = folium.Map(location=[latitude, longitude], zoom_start=10)\n",
    "\n",
    "# add markers to map\n",
    "for lat, lng, borough, neighborhood in zip(df['Latitude'], df['Longitude'], df['Borough'], df['Neighborhood']):\n",
    "    label = '{}, {}'.format(neighborhood, borough)\n",
    "    label = folium.Popup(label, parse_html=True)\n",
    "    folium.CircleMarker(\n",
    "        [lat, lng],\n",
    "        radius=5,\n",
    "        popup=label,\n",
    "        color='blue',\n",
    "        fill=True,\n",
    "        fill_color='#3186cc',\n",
    "        fill_opacity=0.7,\n",
    "        ).add_to(map_Toronto)  \n",
    "    \n",
    "map_Toronto"
   ]
  },
  {
   "cell_type": "code",
   "execution_count": 36,
   "metadata": {},
   "outputs": [
    {
     "name": "stdout",
     "output_type": "stream",
     "text": [
      "Your credentails:\n",
      "CLIENT_ID: IEO3BCOMPMVDENSQXFGQOO21FUGTKIV1ZX01F4LNKLV0PK25\n",
      "CLIENT_SECRET:XNJPG4KKQYJR2ZJM1PFS1FBAOM3APZ32TT2KDDQ3QNBPWCV0\n"
     ]
    }
   ],
   "source": [
    "CLIENT_ID = 'IEO3BCOMPMVDENSQXFGQOO21FUGTKIV1ZX01F4LNKLV0PK25' # your Foursquare ID\n",
    "CLIENT_SECRET = 'XNJPG4KKQYJR2ZJM1PFS1FBAOM3APZ32TT2KDDQ3QNBPWCV0' # your Foursquare Secret\n",
    "VERSION = '20180604' # Foursquare API version\n",
    "\n",
    "print('Your credentails:')\n",
    "print('CLIENT_ID: ' + CLIENT_ID)\n",
    "print('CLIENT_SECRET:' + CLIENT_SECRET)"
   ]
  },
  {
   "cell_type": "code",
   "execution_count": 37,
   "metadata": {},
   "outputs": [
    {
     "name": "stdout",
     "output_type": "stream",
     "text": [
      "Latitude and longitude values of Parkwoods are 43.7532586, -79.3296565.\n"
     ]
    }
   ],
   "source": [
    "\n",
    "neighborhood_latitude = df.loc[0, 'Latitude'] # neighborhood latitude value\n",
    "neighborhood_longitude = df.loc[0, 'Longitude'] # neighborhood longitude value\n",
    "\n",
    "neighborhood_name = df.loc[0, 'Neighborhood'] # neighborhood name\n",
    "\n",
    "print('Latitude and longitude values of {} are {}, {}.'.format(neighborhood_name, \n",
    "                                                               neighborhood_latitude, \n",
    "                                                               neighborhood_longitude))"
   ]
  },
  {
   "cell_type": "code",
   "execution_count": 41,
   "metadata": {},
   "outputs": [
    {
     "data": {
      "text/plain": [
       "'https://api.foursquare.com/v2/venues/explore?&client_id=IEO3BCOMPMVDENSQXFGQOO21FUGTKIV1ZX01F4LNKLV0PK25&client_secret=XNJPG4KKQYJR2ZJM1PFS1FBAOM3APZ32TT2KDDQ3QNBPWCV0&v=20180604&ll=43.7532586,-79.3296565&radius=500&limit=100'"
      ]
     },
     "execution_count": 41,
     "metadata": {},
     "output_type": "execute_result"
    }
   ],
   "source": [
    "LIMIT = 100\n",
    "radius = 500\n",
    "url = 'https://api.foursquare.com/v2/venues/explore?&client_id={}&client_secret={}&v={}&ll={},{}&radius={}&limit={}'.format(\n",
    "    CLIENT_ID, \n",
    "    CLIENT_SECRET, \n",
    "    VERSION, \n",
    "    neighborhood_latitude, \n",
    "    neighborhood_longitude, \n",
    "    radius, \n",
    "    LIMIT)\n",
    "url"
   ]
  },
  {
   "cell_type": "code",
   "execution_count": 42,
   "metadata": {},
   "outputs": [
    {
     "ename": "ConnectionError",
     "evalue": "HTTPSConnectionPool(host='api.foursquare.com', port=443): Max retries exceeded with url: /v2/venues/explore?&client_id=IEO3BCOMPMVDENSQXFGQOO21FUGTKIV1ZX01F4LNKLV0PK25&client_secret=XNJPG4KKQYJR2ZJM1PFS1FBAOM3APZ32TT2KDDQ3QNBPWCV0&v=20180604&ll=43.7532586,-79.3296565&radius=500&limit=100 (Caused by NewConnectionError('<urllib3.connection.VerifiedHTTPSConnection object at 0x000001EB4A794CC8>: Failed to establish a new connection: [WinError 10051] A socket operation was attempted to an unreachable network'))",
     "output_type": "error",
     "traceback": [
      "\u001b[1;31m---------------------------------------------------------------------------\u001b[0m",
      "\u001b[1;31mOSError\u001b[0m                                   Traceback (most recent call last)",
      "\u001b[1;32m~\\anaconda3\\lib\\site-packages\\urllib3\\connection.py\u001b[0m in \u001b[0;36m_new_conn\u001b[1;34m(self)\u001b[0m\n\u001b[0;32m    156\u001b[0m             conn = connection.create_connection(\n\u001b[1;32m--> 157\u001b[1;33m                 \u001b[1;33m(\u001b[0m\u001b[0mself\u001b[0m\u001b[1;33m.\u001b[0m\u001b[0m_dns_host\u001b[0m\u001b[1;33m,\u001b[0m \u001b[0mself\u001b[0m\u001b[1;33m.\u001b[0m\u001b[0mport\u001b[0m\u001b[1;33m)\u001b[0m\u001b[1;33m,\u001b[0m \u001b[0mself\u001b[0m\u001b[1;33m.\u001b[0m\u001b[0mtimeout\u001b[0m\u001b[1;33m,\u001b[0m \u001b[1;33m**\u001b[0m\u001b[0mextra_kw\u001b[0m\u001b[1;33m\u001b[0m\u001b[1;33m\u001b[0m\u001b[0m\n\u001b[0m\u001b[0;32m    158\u001b[0m             )\n",
      "\u001b[1;32m~\\anaconda3\\lib\\site-packages\\urllib3\\util\\connection.py\u001b[0m in \u001b[0;36mcreate_connection\u001b[1;34m(address, timeout, source_address, socket_options)\u001b[0m\n\u001b[0;32m     83\u001b[0m     \u001b[1;32mif\u001b[0m \u001b[0merr\u001b[0m \u001b[1;32mis\u001b[0m \u001b[1;32mnot\u001b[0m \u001b[1;32mNone\u001b[0m\u001b[1;33m:\u001b[0m\u001b[1;33m\u001b[0m\u001b[1;33m\u001b[0m\u001b[0m\n\u001b[1;32m---> 84\u001b[1;33m         \u001b[1;32mraise\u001b[0m \u001b[0merr\u001b[0m\u001b[1;33m\u001b[0m\u001b[1;33m\u001b[0m\u001b[0m\n\u001b[0m\u001b[0;32m     85\u001b[0m \u001b[1;33m\u001b[0m\u001b[0m\n",
      "\u001b[1;32m~\\anaconda3\\lib\\site-packages\\urllib3\\util\\connection.py\u001b[0m in \u001b[0;36mcreate_connection\u001b[1;34m(address, timeout, source_address, socket_options)\u001b[0m\n\u001b[0;32m     73\u001b[0m                 \u001b[0msock\u001b[0m\u001b[1;33m.\u001b[0m\u001b[0mbind\u001b[0m\u001b[1;33m(\u001b[0m\u001b[0msource_address\u001b[0m\u001b[1;33m)\u001b[0m\u001b[1;33m\u001b[0m\u001b[1;33m\u001b[0m\u001b[0m\n\u001b[1;32m---> 74\u001b[1;33m             \u001b[0msock\u001b[0m\u001b[1;33m.\u001b[0m\u001b[0mconnect\u001b[0m\u001b[1;33m(\u001b[0m\u001b[0msa\u001b[0m\u001b[1;33m)\u001b[0m\u001b[1;33m\u001b[0m\u001b[1;33m\u001b[0m\u001b[0m\n\u001b[0m\u001b[0;32m     75\u001b[0m             \u001b[1;32mreturn\u001b[0m \u001b[0msock\u001b[0m\u001b[1;33m\u001b[0m\u001b[1;33m\u001b[0m\u001b[0m\n",
      "\u001b[1;31mOSError\u001b[0m: [WinError 10051] A socket operation was attempted to an unreachable network",
      "\nDuring handling of the above exception, another exception occurred:\n",
      "\u001b[1;31mNewConnectionError\u001b[0m                        Traceback (most recent call last)",
      "\u001b[1;32m~\\anaconda3\\lib\\site-packages\\urllib3\\connectionpool.py\u001b[0m in \u001b[0;36murlopen\u001b[1;34m(self, method, url, body, headers, retries, redirect, assert_same_host, timeout, pool_timeout, release_conn, chunked, body_pos, **response_kw)\u001b[0m\n\u001b[0;32m    671\u001b[0m                 \u001b[0mheaders\u001b[0m\u001b[1;33m=\u001b[0m\u001b[0mheaders\u001b[0m\u001b[1;33m,\u001b[0m\u001b[1;33m\u001b[0m\u001b[1;33m\u001b[0m\u001b[0m\n\u001b[1;32m--> 672\u001b[1;33m                 \u001b[0mchunked\u001b[0m\u001b[1;33m=\u001b[0m\u001b[0mchunked\u001b[0m\u001b[1;33m,\u001b[0m\u001b[1;33m\u001b[0m\u001b[1;33m\u001b[0m\u001b[0m\n\u001b[0m\u001b[0;32m    673\u001b[0m             )\n",
      "\u001b[1;32m~\\anaconda3\\lib\\site-packages\\urllib3\\connectionpool.py\u001b[0m in \u001b[0;36m_make_request\u001b[1;34m(self, conn, method, url, timeout, chunked, **httplib_request_kw)\u001b[0m\n\u001b[0;32m    375\u001b[0m         \u001b[1;32mtry\u001b[0m\u001b[1;33m:\u001b[0m\u001b[1;33m\u001b[0m\u001b[1;33m\u001b[0m\u001b[0m\n\u001b[1;32m--> 376\u001b[1;33m             \u001b[0mself\u001b[0m\u001b[1;33m.\u001b[0m\u001b[0m_validate_conn\u001b[0m\u001b[1;33m(\u001b[0m\u001b[0mconn\u001b[0m\u001b[1;33m)\u001b[0m\u001b[1;33m\u001b[0m\u001b[1;33m\u001b[0m\u001b[0m\n\u001b[0m\u001b[0;32m    377\u001b[0m         \u001b[1;32mexcept\u001b[0m \u001b[1;33m(\u001b[0m\u001b[0mSocketTimeout\u001b[0m\u001b[1;33m,\u001b[0m \u001b[0mBaseSSLError\u001b[0m\u001b[1;33m)\u001b[0m \u001b[1;32mas\u001b[0m \u001b[0me\u001b[0m\u001b[1;33m:\u001b[0m\u001b[1;33m\u001b[0m\u001b[1;33m\u001b[0m\u001b[0m\n",
      "\u001b[1;32m~\\anaconda3\\lib\\site-packages\\urllib3\\connectionpool.py\u001b[0m in \u001b[0;36m_validate_conn\u001b[1;34m(self, conn)\u001b[0m\n\u001b[0;32m    993\u001b[0m         \u001b[1;32mif\u001b[0m \u001b[1;32mnot\u001b[0m \u001b[0mgetattr\u001b[0m\u001b[1;33m(\u001b[0m\u001b[0mconn\u001b[0m\u001b[1;33m,\u001b[0m \u001b[1;34m\"sock\"\u001b[0m\u001b[1;33m,\u001b[0m \u001b[1;32mNone\u001b[0m\u001b[1;33m)\u001b[0m\u001b[1;33m:\u001b[0m  \u001b[1;31m# AppEngine might not have  `.sock`\u001b[0m\u001b[1;33m\u001b[0m\u001b[1;33m\u001b[0m\u001b[0m\n\u001b[1;32m--> 994\u001b[1;33m             \u001b[0mconn\u001b[0m\u001b[1;33m.\u001b[0m\u001b[0mconnect\u001b[0m\u001b[1;33m(\u001b[0m\u001b[1;33m)\u001b[0m\u001b[1;33m\u001b[0m\u001b[1;33m\u001b[0m\u001b[0m\n\u001b[0m\u001b[0;32m    995\u001b[0m \u001b[1;33m\u001b[0m\u001b[0m\n",
      "\u001b[1;32m~\\anaconda3\\lib\\site-packages\\urllib3\\connection.py\u001b[0m in \u001b[0;36mconnect\u001b[1;34m(self)\u001b[0m\n\u001b[0;32m    299\u001b[0m         \u001b[1;31m# Add certificate verification\u001b[0m\u001b[1;33m\u001b[0m\u001b[1;33m\u001b[0m\u001b[1;33m\u001b[0m\u001b[0m\n\u001b[1;32m--> 300\u001b[1;33m         \u001b[0mconn\u001b[0m \u001b[1;33m=\u001b[0m \u001b[0mself\u001b[0m\u001b[1;33m.\u001b[0m\u001b[0m_new_conn\u001b[0m\u001b[1;33m(\u001b[0m\u001b[1;33m)\u001b[0m\u001b[1;33m\u001b[0m\u001b[1;33m\u001b[0m\u001b[0m\n\u001b[0m\u001b[0;32m    301\u001b[0m         \u001b[0mhostname\u001b[0m \u001b[1;33m=\u001b[0m \u001b[0mself\u001b[0m\u001b[1;33m.\u001b[0m\u001b[0mhost\u001b[0m\u001b[1;33m\u001b[0m\u001b[1;33m\u001b[0m\u001b[0m\n",
      "\u001b[1;32m~\\anaconda3\\lib\\site-packages\\urllib3\\connection.py\u001b[0m in \u001b[0;36m_new_conn\u001b[1;34m(self)\u001b[0m\n\u001b[0;32m    168\u001b[0m             raise NewConnectionError(\n\u001b[1;32m--> 169\u001b[1;33m                 \u001b[0mself\u001b[0m\u001b[1;33m,\u001b[0m \u001b[1;34m\"Failed to establish a new connection: %s\"\u001b[0m \u001b[1;33m%\u001b[0m \u001b[0me\u001b[0m\u001b[1;33m\u001b[0m\u001b[1;33m\u001b[0m\u001b[0m\n\u001b[0m\u001b[0;32m    170\u001b[0m             )\n",
      "\u001b[1;31mNewConnectionError\u001b[0m: <urllib3.connection.VerifiedHTTPSConnection object at 0x000001EB4A794CC8>: Failed to establish a new connection: [WinError 10051] A socket operation was attempted to an unreachable network",
      "\nDuring handling of the above exception, another exception occurred:\n",
      "\u001b[1;31mMaxRetryError\u001b[0m                             Traceback (most recent call last)",
      "\u001b[1;32m~\\anaconda3\\lib\\site-packages\\requests\\adapters.py\u001b[0m in \u001b[0;36msend\u001b[1;34m(self, request, stream, timeout, verify, cert, proxies)\u001b[0m\n\u001b[0;32m    448\u001b[0m                     \u001b[0mretries\u001b[0m\u001b[1;33m=\u001b[0m\u001b[0mself\u001b[0m\u001b[1;33m.\u001b[0m\u001b[0mmax_retries\u001b[0m\u001b[1;33m,\u001b[0m\u001b[1;33m\u001b[0m\u001b[1;33m\u001b[0m\u001b[0m\n\u001b[1;32m--> 449\u001b[1;33m                     \u001b[0mtimeout\u001b[0m\u001b[1;33m=\u001b[0m\u001b[0mtimeout\u001b[0m\u001b[1;33m\u001b[0m\u001b[1;33m\u001b[0m\u001b[0m\n\u001b[0m\u001b[0;32m    450\u001b[0m                 )\n",
      "\u001b[1;32m~\\anaconda3\\lib\\site-packages\\urllib3\\connectionpool.py\u001b[0m in \u001b[0;36murlopen\u001b[1;34m(self, method, url, body, headers, retries, redirect, assert_same_host, timeout, pool_timeout, release_conn, chunked, body_pos, **response_kw)\u001b[0m\n\u001b[0;32m    719\u001b[0m             retries = retries.increment(\n\u001b[1;32m--> 720\u001b[1;33m                 \u001b[0mmethod\u001b[0m\u001b[1;33m,\u001b[0m \u001b[0murl\u001b[0m\u001b[1;33m,\u001b[0m \u001b[0merror\u001b[0m\u001b[1;33m=\u001b[0m\u001b[0me\u001b[0m\u001b[1;33m,\u001b[0m \u001b[0m_pool\u001b[0m\u001b[1;33m=\u001b[0m\u001b[0mself\u001b[0m\u001b[1;33m,\u001b[0m \u001b[0m_stacktrace\u001b[0m\u001b[1;33m=\u001b[0m\u001b[0msys\u001b[0m\u001b[1;33m.\u001b[0m\u001b[0mexc_info\u001b[0m\u001b[1;33m(\u001b[0m\u001b[1;33m)\u001b[0m\u001b[1;33m[\u001b[0m\u001b[1;36m2\u001b[0m\u001b[1;33m]\u001b[0m\u001b[1;33m\u001b[0m\u001b[1;33m\u001b[0m\u001b[0m\n\u001b[0m\u001b[0;32m    721\u001b[0m             )\n",
      "\u001b[1;32m~\\anaconda3\\lib\\site-packages\\urllib3\\util\\retry.py\u001b[0m in \u001b[0;36mincrement\u001b[1;34m(self, method, url, response, error, _pool, _stacktrace)\u001b[0m\n\u001b[0;32m    435\u001b[0m         \u001b[1;32mif\u001b[0m \u001b[0mnew_retry\u001b[0m\u001b[1;33m.\u001b[0m\u001b[0mis_exhausted\u001b[0m\u001b[1;33m(\u001b[0m\u001b[1;33m)\u001b[0m\u001b[1;33m:\u001b[0m\u001b[1;33m\u001b[0m\u001b[1;33m\u001b[0m\u001b[0m\n\u001b[1;32m--> 436\u001b[1;33m             \u001b[1;32mraise\u001b[0m \u001b[0mMaxRetryError\u001b[0m\u001b[1;33m(\u001b[0m\u001b[0m_pool\u001b[0m\u001b[1;33m,\u001b[0m \u001b[0murl\u001b[0m\u001b[1;33m,\u001b[0m \u001b[0merror\u001b[0m \u001b[1;32mor\u001b[0m \u001b[0mResponseError\u001b[0m\u001b[1;33m(\u001b[0m\u001b[0mcause\u001b[0m\u001b[1;33m)\u001b[0m\u001b[1;33m)\u001b[0m\u001b[1;33m\u001b[0m\u001b[1;33m\u001b[0m\u001b[0m\n\u001b[0m\u001b[0;32m    437\u001b[0m \u001b[1;33m\u001b[0m\u001b[0m\n",
      "\u001b[1;31mMaxRetryError\u001b[0m: HTTPSConnectionPool(host='api.foursquare.com', port=443): Max retries exceeded with url: /v2/venues/explore?&client_id=IEO3BCOMPMVDENSQXFGQOO21FUGTKIV1ZX01F4LNKLV0PK25&client_secret=XNJPG4KKQYJR2ZJM1PFS1FBAOM3APZ32TT2KDDQ3QNBPWCV0&v=20180604&ll=43.7532586,-79.3296565&radius=500&limit=100 (Caused by NewConnectionError('<urllib3.connection.VerifiedHTTPSConnection object at 0x000001EB4A794CC8>: Failed to establish a new connection: [WinError 10051] A socket operation was attempted to an unreachable network'))",
      "\nDuring handling of the above exception, another exception occurred:\n",
      "\u001b[1;31mConnectionError\u001b[0m                           Traceback (most recent call last)",
      "\u001b[1;32m<ipython-input-42-f048ffce0a17>\u001b[0m in \u001b[0;36m<module>\u001b[1;34m\u001b[0m\n\u001b[1;32m----> 1\u001b[1;33m \u001b[0mresults\u001b[0m \u001b[1;33m=\u001b[0m \u001b[0mrequests\u001b[0m\u001b[1;33m.\u001b[0m\u001b[0mget\u001b[0m\u001b[1;33m(\u001b[0m\u001b[0murl\u001b[0m\u001b[1;33m)\u001b[0m\u001b[1;33m.\u001b[0m\u001b[0mjson\u001b[0m\u001b[1;33m(\u001b[0m\u001b[1;33m)\u001b[0m\u001b[1;33m\u001b[0m\u001b[1;33m\u001b[0m\u001b[0m\n\u001b[0m\u001b[0;32m      2\u001b[0m \u001b[0mresults\u001b[0m\u001b[1;33m\u001b[0m\u001b[1;33m\u001b[0m\u001b[0m\n",
      "\u001b[1;32m~\\anaconda3\\lib\\site-packages\\requests\\api.py\u001b[0m in \u001b[0;36mget\u001b[1;34m(url, params, **kwargs)\u001b[0m\n\u001b[0;32m     73\u001b[0m \u001b[1;33m\u001b[0m\u001b[0m\n\u001b[0;32m     74\u001b[0m     \u001b[0mkwargs\u001b[0m\u001b[1;33m.\u001b[0m\u001b[0msetdefault\u001b[0m\u001b[1;33m(\u001b[0m\u001b[1;34m'allow_redirects'\u001b[0m\u001b[1;33m,\u001b[0m \u001b[1;32mTrue\u001b[0m\u001b[1;33m)\u001b[0m\u001b[1;33m\u001b[0m\u001b[1;33m\u001b[0m\u001b[0m\n\u001b[1;32m---> 75\u001b[1;33m     \u001b[1;32mreturn\u001b[0m \u001b[0mrequest\u001b[0m\u001b[1;33m(\u001b[0m\u001b[1;34m'get'\u001b[0m\u001b[1;33m,\u001b[0m \u001b[0murl\u001b[0m\u001b[1;33m,\u001b[0m \u001b[0mparams\u001b[0m\u001b[1;33m=\u001b[0m\u001b[0mparams\u001b[0m\u001b[1;33m,\u001b[0m \u001b[1;33m**\u001b[0m\u001b[0mkwargs\u001b[0m\u001b[1;33m)\u001b[0m\u001b[1;33m\u001b[0m\u001b[1;33m\u001b[0m\u001b[0m\n\u001b[0m\u001b[0;32m     76\u001b[0m \u001b[1;33m\u001b[0m\u001b[0m\n\u001b[0;32m     77\u001b[0m \u001b[1;33m\u001b[0m\u001b[0m\n",
      "\u001b[1;32m~\\anaconda3\\lib\\site-packages\\requests\\api.py\u001b[0m in \u001b[0;36mrequest\u001b[1;34m(method, url, **kwargs)\u001b[0m\n\u001b[0;32m     58\u001b[0m     \u001b[1;31m# cases, and look like a memory leak in others.\u001b[0m\u001b[1;33m\u001b[0m\u001b[1;33m\u001b[0m\u001b[1;33m\u001b[0m\u001b[0m\n\u001b[0;32m     59\u001b[0m     \u001b[1;32mwith\u001b[0m \u001b[0msessions\u001b[0m\u001b[1;33m.\u001b[0m\u001b[0mSession\u001b[0m\u001b[1;33m(\u001b[0m\u001b[1;33m)\u001b[0m \u001b[1;32mas\u001b[0m \u001b[0msession\u001b[0m\u001b[1;33m:\u001b[0m\u001b[1;33m\u001b[0m\u001b[1;33m\u001b[0m\u001b[0m\n\u001b[1;32m---> 60\u001b[1;33m         \u001b[1;32mreturn\u001b[0m \u001b[0msession\u001b[0m\u001b[1;33m.\u001b[0m\u001b[0mrequest\u001b[0m\u001b[1;33m(\u001b[0m\u001b[0mmethod\u001b[0m\u001b[1;33m=\u001b[0m\u001b[0mmethod\u001b[0m\u001b[1;33m,\u001b[0m \u001b[0murl\u001b[0m\u001b[1;33m=\u001b[0m\u001b[0murl\u001b[0m\u001b[1;33m,\u001b[0m \u001b[1;33m**\u001b[0m\u001b[0mkwargs\u001b[0m\u001b[1;33m)\u001b[0m\u001b[1;33m\u001b[0m\u001b[1;33m\u001b[0m\u001b[0m\n\u001b[0m\u001b[0;32m     61\u001b[0m \u001b[1;33m\u001b[0m\u001b[0m\n\u001b[0;32m     62\u001b[0m \u001b[1;33m\u001b[0m\u001b[0m\n",
      "\u001b[1;32m~\\anaconda3\\lib\\site-packages\\requests\\sessions.py\u001b[0m in \u001b[0;36mrequest\u001b[1;34m(self, method, url, params, data, headers, cookies, files, auth, timeout, allow_redirects, proxies, hooks, stream, verify, cert, json)\u001b[0m\n\u001b[0;32m    531\u001b[0m         }\n\u001b[0;32m    532\u001b[0m         \u001b[0msend_kwargs\u001b[0m\u001b[1;33m.\u001b[0m\u001b[0mupdate\u001b[0m\u001b[1;33m(\u001b[0m\u001b[0msettings\u001b[0m\u001b[1;33m)\u001b[0m\u001b[1;33m\u001b[0m\u001b[1;33m\u001b[0m\u001b[0m\n\u001b[1;32m--> 533\u001b[1;33m         \u001b[0mresp\u001b[0m \u001b[1;33m=\u001b[0m \u001b[0mself\u001b[0m\u001b[1;33m.\u001b[0m\u001b[0msend\u001b[0m\u001b[1;33m(\u001b[0m\u001b[0mprep\u001b[0m\u001b[1;33m,\u001b[0m \u001b[1;33m**\u001b[0m\u001b[0msend_kwargs\u001b[0m\u001b[1;33m)\u001b[0m\u001b[1;33m\u001b[0m\u001b[1;33m\u001b[0m\u001b[0m\n\u001b[0m\u001b[0;32m    534\u001b[0m \u001b[1;33m\u001b[0m\u001b[0m\n\u001b[0;32m    535\u001b[0m         \u001b[1;32mreturn\u001b[0m \u001b[0mresp\u001b[0m\u001b[1;33m\u001b[0m\u001b[1;33m\u001b[0m\u001b[0m\n",
      "\u001b[1;32m~\\anaconda3\\lib\\site-packages\\requests\\sessions.py\u001b[0m in \u001b[0;36msend\u001b[1;34m(self, request, **kwargs)\u001b[0m\n\u001b[0;32m    644\u001b[0m \u001b[1;33m\u001b[0m\u001b[0m\n\u001b[0;32m    645\u001b[0m         \u001b[1;31m# Send the request\u001b[0m\u001b[1;33m\u001b[0m\u001b[1;33m\u001b[0m\u001b[1;33m\u001b[0m\u001b[0m\n\u001b[1;32m--> 646\u001b[1;33m         \u001b[0mr\u001b[0m \u001b[1;33m=\u001b[0m \u001b[0madapter\u001b[0m\u001b[1;33m.\u001b[0m\u001b[0msend\u001b[0m\u001b[1;33m(\u001b[0m\u001b[0mrequest\u001b[0m\u001b[1;33m,\u001b[0m \u001b[1;33m**\u001b[0m\u001b[0mkwargs\u001b[0m\u001b[1;33m)\u001b[0m\u001b[1;33m\u001b[0m\u001b[1;33m\u001b[0m\u001b[0m\n\u001b[0m\u001b[0;32m    647\u001b[0m \u001b[1;33m\u001b[0m\u001b[0m\n\u001b[0;32m    648\u001b[0m         \u001b[1;31m# Total elapsed time of the request (approximately)\u001b[0m\u001b[1;33m\u001b[0m\u001b[1;33m\u001b[0m\u001b[1;33m\u001b[0m\u001b[0m\n",
      "\u001b[1;32m~\\anaconda3\\lib\\site-packages\\requests\\adapters.py\u001b[0m in \u001b[0;36msend\u001b[1;34m(self, request, stream, timeout, verify, cert, proxies)\u001b[0m\n\u001b[0;32m    514\u001b[0m                 \u001b[1;32mraise\u001b[0m \u001b[0mSSLError\u001b[0m\u001b[1;33m(\u001b[0m\u001b[0me\u001b[0m\u001b[1;33m,\u001b[0m \u001b[0mrequest\u001b[0m\u001b[1;33m=\u001b[0m\u001b[0mrequest\u001b[0m\u001b[1;33m)\u001b[0m\u001b[1;33m\u001b[0m\u001b[1;33m\u001b[0m\u001b[0m\n\u001b[0;32m    515\u001b[0m \u001b[1;33m\u001b[0m\u001b[0m\n\u001b[1;32m--> 516\u001b[1;33m             \u001b[1;32mraise\u001b[0m \u001b[0mConnectionError\u001b[0m\u001b[1;33m(\u001b[0m\u001b[0me\u001b[0m\u001b[1;33m,\u001b[0m \u001b[0mrequest\u001b[0m\u001b[1;33m=\u001b[0m\u001b[0mrequest\u001b[0m\u001b[1;33m)\u001b[0m\u001b[1;33m\u001b[0m\u001b[1;33m\u001b[0m\u001b[0m\n\u001b[0m\u001b[0;32m    517\u001b[0m \u001b[1;33m\u001b[0m\u001b[0m\n\u001b[0;32m    518\u001b[0m         \u001b[1;32mexcept\u001b[0m \u001b[0mClosedPoolError\u001b[0m \u001b[1;32mas\u001b[0m \u001b[0me\u001b[0m\u001b[1;33m:\u001b[0m\u001b[1;33m\u001b[0m\u001b[1;33m\u001b[0m\u001b[0m\n",
      "\u001b[1;31mConnectionError\u001b[0m: HTTPSConnectionPool(host='api.foursquare.com', port=443): Max retries exceeded with url: /v2/venues/explore?&client_id=IEO3BCOMPMVDENSQXFGQOO21FUGTKIV1ZX01F4LNKLV0PK25&client_secret=XNJPG4KKQYJR2ZJM1PFS1FBAOM3APZ32TT2KDDQ3QNBPWCV0&v=20180604&ll=43.7532586,-79.3296565&radius=500&limit=100 (Caused by NewConnectionError('<urllib3.connection.VerifiedHTTPSConnection object at 0x000001EB4A794CC8>: Failed to establish a new connection: [WinError 10051] A socket operation was attempted to an unreachable network'))"
     ]
    }
   ],
   "source": [
    "results = requests.get(url).json()\n",
    "results"
   ]
  },
  {
   "cell_type": "code",
   "execution_count": 43,
   "metadata": {},
   "outputs": [],
   "source": [
    "\n",
    "# function that extracts the category of the venue\n",
    "def get_category_type(row):\n",
    "    try:\n",
    "        categories_list = row['categories']\n",
    "    except:\n",
    "        categories_list = row['venue.categories']\n",
    "        \n",
    "    if len(categories_list) == 0:\n",
    "        return None\n",
    "    else:\n",
    "        return categories_list[0]['name']"
   ]
  },
  {
   "cell_type": "code",
   "execution_count": 44,
   "metadata": {},
   "outputs": [
    {
     "ename": "NameError",
     "evalue": "name 'results' is not defined",
     "output_type": "error",
     "traceback": [
      "\u001b[1;31m---------------------------------------------------------------------------\u001b[0m",
      "\u001b[1;31mNameError\u001b[0m                                 Traceback (most recent call last)",
      "\u001b[1;32m<ipython-input-44-4cac159fdf56>\u001b[0m in \u001b[0;36m<module>\u001b[1;34m\u001b[0m\n\u001b[0;32m      2\u001b[0m \u001b[1;32mfrom\u001b[0m \u001b[0mpandas\u001b[0m\u001b[1;33m.\u001b[0m\u001b[0mio\u001b[0m\u001b[1;33m.\u001b[0m\u001b[0mjson\u001b[0m \u001b[1;32mimport\u001b[0m \u001b[0mjson_normalize\u001b[0m\u001b[1;33m\u001b[0m\u001b[1;33m\u001b[0m\u001b[0m\n\u001b[0;32m      3\u001b[0m \u001b[1;33m\u001b[0m\u001b[0m\n\u001b[1;32m----> 4\u001b[1;33m \u001b[0mvenues\u001b[0m \u001b[1;33m=\u001b[0m \u001b[0mresults\u001b[0m\u001b[1;33m[\u001b[0m\u001b[1;34m'response'\u001b[0m\u001b[1;33m]\u001b[0m\u001b[1;33m[\u001b[0m\u001b[1;34m'groups'\u001b[0m\u001b[1;33m]\u001b[0m\u001b[1;33m[\u001b[0m\u001b[1;36m0\u001b[0m\u001b[1;33m]\u001b[0m\u001b[1;33m[\u001b[0m\u001b[1;34m'items'\u001b[0m\u001b[1;33m]\u001b[0m\u001b[1;33m\u001b[0m\u001b[1;33m\u001b[0m\u001b[0m\n\u001b[0m\u001b[0;32m      5\u001b[0m \u001b[1;33m\u001b[0m\u001b[0m\n\u001b[0;32m      6\u001b[0m \u001b[0mnearby_venues\u001b[0m \u001b[1;33m=\u001b[0m \u001b[0mjson_normalize\u001b[0m\u001b[1;33m(\u001b[0m\u001b[0mvenues\u001b[0m\u001b[1;33m)\u001b[0m \u001b[1;31m# flatten JSON\u001b[0m\u001b[1;33m\u001b[0m\u001b[1;33m\u001b[0m\u001b[0m\n",
      "\u001b[1;31mNameError\u001b[0m: name 'results' is not defined"
     ]
    }
   ],
   "source": [
    "\n",
    "import json\n",
    "from pandas.io.json import json_normalize\n",
    "\n",
    "venues = results['response']['groups'][0]['items']\n",
    "    \n",
    "nearby_venues = json_normalize(venues) # flatten JSON\n",
    "\n",
    "# filter columns\n",
    "filtered_columns = ['venue.name', 'venue.categories', 'venue.location.lat', 'venue.location.lng']\n",
    "nearby_venues =nearby_venues.loc[:, filtered_columns]\n",
    "\n",
    "# filter the category for each row\n",
    "nearby_venues['venue.categories'] = nearby_venues.apply(get_category_type, axis=1)\n",
    "\n",
    "# clean columns\n",
    "nearby_venues.columns = [col.split(\".\")[-1] for col in nearby_venues.columns]\n",
    "\n",
    "nearby_venues.head()"
   ]
  },
  {
   "cell_type": "code",
   "execution_count": 45,
   "metadata": {},
   "outputs": [],
   "source": [
    "def getNearbyVenues(names, latitudes, longitudes, radius=500):\n",
    "    \n",
    "    venues_list=[]\n",
    "    for name, lat, lng in zip(names, latitudes, longitudes):\n",
    "        print(name)\n",
    "            \n",
    "        # create the API request URL\n",
    "        url = 'https://api.foursquare.com/v2/venues/explore?&client_id={}&client_secret={}&v={}&ll={},{}&radius={}&limit={}'.format(\n",
    "            CLIENT_ID, \n",
    "            CLIENT_SECRET, \n",
    "            VERSION, \n",
    "            lat, \n",
    "            lng, \n",
    "            radius, \n",
    "            LIMIT)\n",
    "            \n",
    "        # make the GET request\n",
    "        results = requests.get(url).json()[\"response\"]['groups'][0]['items']\n",
    "        \n",
    "        # return only relevant information for each nearby venue\n",
    "        venues_list.append([(\n",
    "            name, \n",
    "            lat, \n",
    "            lng, \n",
    "            v['venue']['name'], \n",
    "            v['venue']['location']['lat'], \n",
    "            v['venue']['location']['lng'],  \n",
    "            v['venue']['categories'][0]['name']) for v in results])\n",
    "\n",
    "    nearby_venues = pd.DataFrame([item for venue_list in venues_list for item in venue_list])\n",
    "    nearby_venues.columns = ['Neighbourhood', \n",
    "                  'Neighborhood Latitude', \n",
    "                  'Neighborhood Longitude', \n",
    "                  'Venue', \n",
    "                  'Venue Latitude', \n",
    "                  'Venue Longitude', \n",
    "                  'Venue Category']\n",
    "    "
   ]
  },
  {
   "cell_type": "code",
   "execution_count": 46,
   "metadata": {},
   "outputs": [
    {
     "name": "stdout",
     "output_type": "stream",
     "text": [
      "Parkwoods\n"
     ]
    },
    {
     "ename": "ConnectionError",
     "evalue": "HTTPSConnectionPool(host='api.foursquare.com', port=443): Max retries exceeded with url: /v2/venues/explore?&client_id=IEO3BCOMPMVDENSQXFGQOO21FUGTKIV1ZX01F4LNKLV0PK25&client_secret=XNJPG4KKQYJR2ZJM1PFS1FBAOM3APZ32TT2KDDQ3QNBPWCV0&v=20180604&ll=43.7532586,-79.3296565&radius=500&limit=100 (Caused by NewConnectionError('<urllib3.connection.VerifiedHTTPSConnection object at 0x000001EB4A79DC88>: Failed to establish a new connection: [WinError 10051] A socket operation was attempted to an unreachable network'))",
     "output_type": "error",
     "traceback": [
      "\u001b[1;31m---------------------------------------------------------------------------\u001b[0m",
      "\u001b[1;31mOSError\u001b[0m                                   Traceback (most recent call last)",
      "\u001b[1;32m~\\anaconda3\\lib\\site-packages\\urllib3\\connection.py\u001b[0m in \u001b[0;36m_new_conn\u001b[1;34m(self)\u001b[0m\n\u001b[0;32m    156\u001b[0m             conn = connection.create_connection(\n\u001b[1;32m--> 157\u001b[1;33m                 \u001b[1;33m(\u001b[0m\u001b[0mself\u001b[0m\u001b[1;33m.\u001b[0m\u001b[0m_dns_host\u001b[0m\u001b[1;33m,\u001b[0m \u001b[0mself\u001b[0m\u001b[1;33m.\u001b[0m\u001b[0mport\u001b[0m\u001b[1;33m)\u001b[0m\u001b[1;33m,\u001b[0m \u001b[0mself\u001b[0m\u001b[1;33m.\u001b[0m\u001b[0mtimeout\u001b[0m\u001b[1;33m,\u001b[0m \u001b[1;33m**\u001b[0m\u001b[0mextra_kw\u001b[0m\u001b[1;33m\u001b[0m\u001b[1;33m\u001b[0m\u001b[0m\n\u001b[0m\u001b[0;32m    158\u001b[0m             )\n",
      "\u001b[1;32m~\\anaconda3\\lib\\site-packages\\urllib3\\util\\connection.py\u001b[0m in \u001b[0;36mcreate_connection\u001b[1;34m(address, timeout, source_address, socket_options)\u001b[0m\n\u001b[0;32m     83\u001b[0m     \u001b[1;32mif\u001b[0m \u001b[0merr\u001b[0m \u001b[1;32mis\u001b[0m \u001b[1;32mnot\u001b[0m \u001b[1;32mNone\u001b[0m\u001b[1;33m:\u001b[0m\u001b[1;33m\u001b[0m\u001b[1;33m\u001b[0m\u001b[0m\n\u001b[1;32m---> 84\u001b[1;33m         \u001b[1;32mraise\u001b[0m \u001b[0merr\u001b[0m\u001b[1;33m\u001b[0m\u001b[1;33m\u001b[0m\u001b[0m\n\u001b[0m\u001b[0;32m     85\u001b[0m \u001b[1;33m\u001b[0m\u001b[0m\n",
      "\u001b[1;32m~\\anaconda3\\lib\\site-packages\\urllib3\\util\\connection.py\u001b[0m in \u001b[0;36mcreate_connection\u001b[1;34m(address, timeout, source_address, socket_options)\u001b[0m\n\u001b[0;32m     73\u001b[0m                 \u001b[0msock\u001b[0m\u001b[1;33m.\u001b[0m\u001b[0mbind\u001b[0m\u001b[1;33m(\u001b[0m\u001b[0msource_address\u001b[0m\u001b[1;33m)\u001b[0m\u001b[1;33m\u001b[0m\u001b[1;33m\u001b[0m\u001b[0m\n\u001b[1;32m---> 74\u001b[1;33m             \u001b[0msock\u001b[0m\u001b[1;33m.\u001b[0m\u001b[0mconnect\u001b[0m\u001b[1;33m(\u001b[0m\u001b[0msa\u001b[0m\u001b[1;33m)\u001b[0m\u001b[1;33m\u001b[0m\u001b[1;33m\u001b[0m\u001b[0m\n\u001b[0m\u001b[0;32m     75\u001b[0m             \u001b[1;32mreturn\u001b[0m \u001b[0msock\u001b[0m\u001b[1;33m\u001b[0m\u001b[1;33m\u001b[0m\u001b[0m\n",
      "\u001b[1;31mOSError\u001b[0m: [WinError 10051] A socket operation was attempted to an unreachable network",
      "\nDuring handling of the above exception, another exception occurred:\n",
      "\u001b[1;31mNewConnectionError\u001b[0m                        Traceback (most recent call last)",
      "\u001b[1;32m~\\anaconda3\\lib\\site-packages\\urllib3\\connectionpool.py\u001b[0m in \u001b[0;36murlopen\u001b[1;34m(self, method, url, body, headers, retries, redirect, assert_same_host, timeout, pool_timeout, release_conn, chunked, body_pos, **response_kw)\u001b[0m\n\u001b[0;32m    671\u001b[0m                 \u001b[0mheaders\u001b[0m\u001b[1;33m=\u001b[0m\u001b[0mheaders\u001b[0m\u001b[1;33m,\u001b[0m\u001b[1;33m\u001b[0m\u001b[1;33m\u001b[0m\u001b[0m\n\u001b[1;32m--> 672\u001b[1;33m                 \u001b[0mchunked\u001b[0m\u001b[1;33m=\u001b[0m\u001b[0mchunked\u001b[0m\u001b[1;33m,\u001b[0m\u001b[1;33m\u001b[0m\u001b[1;33m\u001b[0m\u001b[0m\n\u001b[0m\u001b[0;32m    673\u001b[0m             )\n",
      "\u001b[1;32m~\\anaconda3\\lib\\site-packages\\urllib3\\connectionpool.py\u001b[0m in \u001b[0;36m_make_request\u001b[1;34m(self, conn, method, url, timeout, chunked, **httplib_request_kw)\u001b[0m\n\u001b[0;32m    375\u001b[0m         \u001b[1;32mtry\u001b[0m\u001b[1;33m:\u001b[0m\u001b[1;33m\u001b[0m\u001b[1;33m\u001b[0m\u001b[0m\n\u001b[1;32m--> 376\u001b[1;33m             \u001b[0mself\u001b[0m\u001b[1;33m.\u001b[0m\u001b[0m_validate_conn\u001b[0m\u001b[1;33m(\u001b[0m\u001b[0mconn\u001b[0m\u001b[1;33m)\u001b[0m\u001b[1;33m\u001b[0m\u001b[1;33m\u001b[0m\u001b[0m\n\u001b[0m\u001b[0;32m    377\u001b[0m         \u001b[1;32mexcept\u001b[0m \u001b[1;33m(\u001b[0m\u001b[0mSocketTimeout\u001b[0m\u001b[1;33m,\u001b[0m \u001b[0mBaseSSLError\u001b[0m\u001b[1;33m)\u001b[0m \u001b[1;32mas\u001b[0m \u001b[0me\u001b[0m\u001b[1;33m:\u001b[0m\u001b[1;33m\u001b[0m\u001b[1;33m\u001b[0m\u001b[0m\n",
      "\u001b[1;32m~\\anaconda3\\lib\\site-packages\\urllib3\\connectionpool.py\u001b[0m in \u001b[0;36m_validate_conn\u001b[1;34m(self, conn)\u001b[0m\n\u001b[0;32m    993\u001b[0m         \u001b[1;32mif\u001b[0m \u001b[1;32mnot\u001b[0m \u001b[0mgetattr\u001b[0m\u001b[1;33m(\u001b[0m\u001b[0mconn\u001b[0m\u001b[1;33m,\u001b[0m \u001b[1;34m\"sock\"\u001b[0m\u001b[1;33m,\u001b[0m \u001b[1;32mNone\u001b[0m\u001b[1;33m)\u001b[0m\u001b[1;33m:\u001b[0m  \u001b[1;31m# AppEngine might not have  `.sock`\u001b[0m\u001b[1;33m\u001b[0m\u001b[1;33m\u001b[0m\u001b[0m\n\u001b[1;32m--> 994\u001b[1;33m             \u001b[0mconn\u001b[0m\u001b[1;33m.\u001b[0m\u001b[0mconnect\u001b[0m\u001b[1;33m(\u001b[0m\u001b[1;33m)\u001b[0m\u001b[1;33m\u001b[0m\u001b[1;33m\u001b[0m\u001b[0m\n\u001b[0m\u001b[0;32m    995\u001b[0m \u001b[1;33m\u001b[0m\u001b[0m\n",
      "\u001b[1;32m~\\anaconda3\\lib\\site-packages\\urllib3\\connection.py\u001b[0m in \u001b[0;36mconnect\u001b[1;34m(self)\u001b[0m\n\u001b[0;32m    299\u001b[0m         \u001b[1;31m# Add certificate verification\u001b[0m\u001b[1;33m\u001b[0m\u001b[1;33m\u001b[0m\u001b[1;33m\u001b[0m\u001b[0m\n\u001b[1;32m--> 300\u001b[1;33m         \u001b[0mconn\u001b[0m \u001b[1;33m=\u001b[0m \u001b[0mself\u001b[0m\u001b[1;33m.\u001b[0m\u001b[0m_new_conn\u001b[0m\u001b[1;33m(\u001b[0m\u001b[1;33m)\u001b[0m\u001b[1;33m\u001b[0m\u001b[1;33m\u001b[0m\u001b[0m\n\u001b[0m\u001b[0;32m    301\u001b[0m         \u001b[0mhostname\u001b[0m \u001b[1;33m=\u001b[0m \u001b[0mself\u001b[0m\u001b[1;33m.\u001b[0m\u001b[0mhost\u001b[0m\u001b[1;33m\u001b[0m\u001b[1;33m\u001b[0m\u001b[0m\n",
      "\u001b[1;32m~\\anaconda3\\lib\\site-packages\\urllib3\\connection.py\u001b[0m in \u001b[0;36m_new_conn\u001b[1;34m(self)\u001b[0m\n\u001b[0;32m    168\u001b[0m             raise NewConnectionError(\n\u001b[1;32m--> 169\u001b[1;33m                 \u001b[0mself\u001b[0m\u001b[1;33m,\u001b[0m \u001b[1;34m\"Failed to establish a new connection: %s\"\u001b[0m \u001b[1;33m%\u001b[0m \u001b[0me\u001b[0m\u001b[1;33m\u001b[0m\u001b[1;33m\u001b[0m\u001b[0m\n\u001b[0m\u001b[0;32m    170\u001b[0m             )\n",
      "\u001b[1;31mNewConnectionError\u001b[0m: <urllib3.connection.VerifiedHTTPSConnection object at 0x000001EB4A79DC88>: Failed to establish a new connection: [WinError 10051] A socket operation was attempted to an unreachable network",
      "\nDuring handling of the above exception, another exception occurred:\n",
      "\u001b[1;31mMaxRetryError\u001b[0m                             Traceback (most recent call last)",
      "\u001b[1;32m~\\anaconda3\\lib\\site-packages\\requests\\adapters.py\u001b[0m in \u001b[0;36msend\u001b[1;34m(self, request, stream, timeout, verify, cert, proxies)\u001b[0m\n\u001b[0;32m    448\u001b[0m                     \u001b[0mretries\u001b[0m\u001b[1;33m=\u001b[0m\u001b[0mself\u001b[0m\u001b[1;33m.\u001b[0m\u001b[0mmax_retries\u001b[0m\u001b[1;33m,\u001b[0m\u001b[1;33m\u001b[0m\u001b[1;33m\u001b[0m\u001b[0m\n\u001b[1;32m--> 449\u001b[1;33m                     \u001b[0mtimeout\u001b[0m\u001b[1;33m=\u001b[0m\u001b[0mtimeout\u001b[0m\u001b[1;33m\u001b[0m\u001b[1;33m\u001b[0m\u001b[0m\n\u001b[0m\u001b[0;32m    450\u001b[0m                 )\n",
      "\u001b[1;32m~\\anaconda3\\lib\\site-packages\\urllib3\\connectionpool.py\u001b[0m in \u001b[0;36murlopen\u001b[1;34m(self, method, url, body, headers, retries, redirect, assert_same_host, timeout, pool_timeout, release_conn, chunked, body_pos, **response_kw)\u001b[0m\n\u001b[0;32m    719\u001b[0m             retries = retries.increment(\n\u001b[1;32m--> 720\u001b[1;33m                 \u001b[0mmethod\u001b[0m\u001b[1;33m,\u001b[0m \u001b[0murl\u001b[0m\u001b[1;33m,\u001b[0m \u001b[0merror\u001b[0m\u001b[1;33m=\u001b[0m\u001b[0me\u001b[0m\u001b[1;33m,\u001b[0m \u001b[0m_pool\u001b[0m\u001b[1;33m=\u001b[0m\u001b[0mself\u001b[0m\u001b[1;33m,\u001b[0m \u001b[0m_stacktrace\u001b[0m\u001b[1;33m=\u001b[0m\u001b[0msys\u001b[0m\u001b[1;33m.\u001b[0m\u001b[0mexc_info\u001b[0m\u001b[1;33m(\u001b[0m\u001b[1;33m)\u001b[0m\u001b[1;33m[\u001b[0m\u001b[1;36m2\u001b[0m\u001b[1;33m]\u001b[0m\u001b[1;33m\u001b[0m\u001b[1;33m\u001b[0m\u001b[0m\n\u001b[0m\u001b[0;32m    721\u001b[0m             )\n",
      "\u001b[1;32m~\\anaconda3\\lib\\site-packages\\urllib3\\util\\retry.py\u001b[0m in \u001b[0;36mincrement\u001b[1;34m(self, method, url, response, error, _pool, _stacktrace)\u001b[0m\n\u001b[0;32m    435\u001b[0m         \u001b[1;32mif\u001b[0m \u001b[0mnew_retry\u001b[0m\u001b[1;33m.\u001b[0m\u001b[0mis_exhausted\u001b[0m\u001b[1;33m(\u001b[0m\u001b[1;33m)\u001b[0m\u001b[1;33m:\u001b[0m\u001b[1;33m\u001b[0m\u001b[1;33m\u001b[0m\u001b[0m\n\u001b[1;32m--> 436\u001b[1;33m             \u001b[1;32mraise\u001b[0m \u001b[0mMaxRetryError\u001b[0m\u001b[1;33m(\u001b[0m\u001b[0m_pool\u001b[0m\u001b[1;33m,\u001b[0m \u001b[0murl\u001b[0m\u001b[1;33m,\u001b[0m \u001b[0merror\u001b[0m \u001b[1;32mor\u001b[0m \u001b[0mResponseError\u001b[0m\u001b[1;33m(\u001b[0m\u001b[0mcause\u001b[0m\u001b[1;33m)\u001b[0m\u001b[1;33m)\u001b[0m\u001b[1;33m\u001b[0m\u001b[1;33m\u001b[0m\u001b[0m\n\u001b[0m\u001b[0;32m    437\u001b[0m \u001b[1;33m\u001b[0m\u001b[0m\n",
      "\u001b[1;31mMaxRetryError\u001b[0m: HTTPSConnectionPool(host='api.foursquare.com', port=443): Max retries exceeded with url: /v2/venues/explore?&client_id=IEO3BCOMPMVDENSQXFGQOO21FUGTKIV1ZX01F4LNKLV0PK25&client_secret=XNJPG4KKQYJR2ZJM1PFS1FBAOM3APZ32TT2KDDQ3QNBPWCV0&v=20180604&ll=43.7532586,-79.3296565&radius=500&limit=100 (Caused by NewConnectionError('<urllib3.connection.VerifiedHTTPSConnection object at 0x000001EB4A79DC88>: Failed to establish a new connection: [WinError 10051] A socket operation was attempted to an unreachable network'))",
      "\nDuring handling of the above exception, another exception occurred:\n",
      "\u001b[1;31mConnectionError\u001b[0m                           Traceback (most recent call last)",
      "\u001b[1;32m<ipython-input-46-0af917010a47>\u001b[0m in \u001b[0;36m<module>\u001b[1;34m\u001b[0m\n\u001b[0;32m      1\u001b[0m toronto_venues = getNearbyVenues(names=df['Neighborhood'],\n\u001b[0;32m      2\u001b[0m                                    \u001b[0mlatitudes\u001b[0m\u001b[1;33m=\u001b[0m\u001b[0mdf\u001b[0m\u001b[1;33m[\u001b[0m\u001b[1;34m'Latitude'\u001b[0m\u001b[1;33m]\u001b[0m\u001b[1;33m,\u001b[0m\u001b[1;33m\u001b[0m\u001b[1;33m\u001b[0m\u001b[0m\n\u001b[1;32m----> 3\u001b[1;33m                                    \u001b[0mlongitudes\u001b[0m\u001b[1;33m=\u001b[0m\u001b[0mdf\u001b[0m\u001b[1;33m[\u001b[0m\u001b[1;34m'Longitude'\u001b[0m\u001b[1;33m]\u001b[0m\u001b[1;33m\u001b[0m\u001b[1;33m\u001b[0m\u001b[0m\n\u001b[0m\u001b[0;32m      4\u001b[0m                                   )\n",
      "\u001b[1;32m<ipython-input-45-0246348fa6f7>\u001b[0m in \u001b[0;36mgetNearbyVenues\u001b[1;34m(names, latitudes, longitudes, radius)\u001b[0m\n\u001b[0;32m     16\u001b[0m \u001b[1;33m\u001b[0m\u001b[0m\n\u001b[0;32m     17\u001b[0m         \u001b[1;31m# make the GET request\u001b[0m\u001b[1;33m\u001b[0m\u001b[1;33m\u001b[0m\u001b[1;33m\u001b[0m\u001b[0m\n\u001b[1;32m---> 18\u001b[1;33m         \u001b[0mresults\u001b[0m \u001b[1;33m=\u001b[0m \u001b[0mrequests\u001b[0m\u001b[1;33m.\u001b[0m\u001b[0mget\u001b[0m\u001b[1;33m(\u001b[0m\u001b[0murl\u001b[0m\u001b[1;33m)\u001b[0m\u001b[1;33m.\u001b[0m\u001b[0mjson\u001b[0m\u001b[1;33m(\u001b[0m\u001b[1;33m)\u001b[0m\u001b[1;33m[\u001b[0m\u001b[1;34m\"response\"\u001b[0m\u001b[1;33m]\u001b[0m\u001b[1;33m[\u001b[0m\u001b[1;34m'groups'\u001b[0m\u001b[1;33m]\u001b[0m\u001b[1;33m[\u001b[0m\u001b[1;36m0\u001b[0m\u001b[1;33m]\u001b[0m\u001b[1;33m[\u001b[0m\u001b[1;34m'items'\u001b[0m\u001b[1;33m]\u001b[0m\u001b[1;33m\u001b[0m\u001b[1;33m\u001b[0m\u001b[0m\n\u001b[0m\u001b[0;32m     19\u001b[0m \u001b[1;33m\u001b[0m\u001b[0m\n\u001b[0;32m     20\u001b[0m         \u001b[1;31m# return only relevant information for each nearby venue\u001b[0m\u001b[1;33m\u001b[0m\u001b[1;33m\u001b[0m\u001b[1;33m\u001b[0m\u001b[0m\n",
      "\u001b[1;32m~\\anaconda3\\lib\\site-packages\\requests\\api.py\u001b[0m in \u001b[0;36mget\u001b[1;34m(url, params, **kwargs)\u001b[0m\n\u001b[0;32m     73\u001b[0m \u001b[1;33m\u001b[0m\u001b[0m\n\u001b[0;32m     74\u001b[0m     \u001b[0mkwargs\u001b[0m\u001b[1;33m.\u001b[0m\u001b[0msetdefault\u001b[0m\u001b[1;33m(\u001b[0m\u001b[1;34m'allow_redirects'\u001b[0m\u001b[1;33m,\u001b[0m \u001b[1;32mTrue\u001b[0m\u001b[1;33m)\u001b[0m\u001b[1;33m\u001b[0m\u001b[1;33m\u001b[0m\u001b[0m\n\u001b[1;32m---> 75\u001b[1;33m     \u001b[1;32mreturn\u001b[0m \u001b[0mrequest\u001b[0m\u001b[1;33m(\u001b[0m\u001b[1;34m'get'\u001b[0m\u001b[1;33m,\u001b[0m \u001b[0murl\u001b[0m\u001b[1;33m,\u001b[0m \u001b[0mparams\u001b[0m\u001b[1;33m=\u001b[0m\u001b[0mparams\u001b[0m\u001b[1;33m,\u001b[0m \u001b[1;33m**\u001b[0m\u001b[0mkwargs\u001b[0m\u001b[1;33m)\u001b[0m\u001b[1;33m\u001b[0m\u001b[1;33m\u001b[0m\u001b[0m\n\u001b[0m\u001b[0;32m     76\u001b[0m \u001b[1;33m\u001b[0m\u001b[0m\n\u001b[0;32m     77\u001b[0m \u001b[1;33m\u001b[0m\u001b[0m\n",
      "\u001b[1;32m~\\anaconda3\\lib\\site-packages\\requests\\api.py\u001b[0m in \u001b[0;36mrequest\u001b[1;34m(method, url, **kwargs)\u001b[0m\n\u001b[0;32m     58\u001b[0m     \u001b[1;31m# cases, and look like a memory leak in others.\u001b[0m\u001b[1;33m\u001b[0m\u001b[1;33m\u001b[0m\u001b[1;33m\u001b[0m\u001b[0m\n\u001b[0;32m     59\u001b[0m     \u001b[1;32mwith\u001b[0m \u001b[0msessions\u001b[0m\u001b[1;33m.\u001b[0m\u001b[0mSession\u001b[0m\u001b[1;33m(\u001b[0m\u001b[1;33m)\u001b[0m \u001b[1;32mas\u001b[0m \u001b[0msession\u001b[0m\u001b[1;33m:\u001b[0m\u001b[1;33m\u001b[0m\u001b[1;33m\u001b[0m\u001b[0m\n\u001b[1;32m---> 60\u001b[1;33m         \u001b[1;32mreturn\u001b[0m \u001b[0msession\u001b[0m\u001b[1;33m.\u001b[0m\u001b[0mrequest\u001b[0m\u001b[1;33m(\u001b[0m\u001b[0mmethod\u001b[0m\u001b[1;33m=\u001b[0m\u001b[0mmethod\u001b[0m\u001b[1;33m,\u001b[0m \u001b[0murl\u001b[0m\u001b[1;33m=\u001b[0m\u001b[0murl\u001b[0m\u001b[1;33m,\u001b[0m \u001b[1;33m**\u001b[0m\u001b[0mkwargs\u001b[0m\u001b[1;33m)\u001b[0m\u001b[1;33m\u001b[0m\u001b[1;33m\u001b[0m\u001b[0m\n\u001b[0m\u001b[0;32m     61\u001b[0m \u001b[1;33m\u001b[0m\u001b[0m\n\u001b[0;32m     62\u001b[0m \u001b[1;33m\u001b[0m\u001b[0m\n",
      "\u001b[1;32m~\\anaconda3\\lib\\site-packages\\requests\\sessions.py\u001b[0m in \u001b[0;36mrequest\u001b[1;34m(self, method, url, params, data, headers, cookies, files, auth, timeout, allow_redirects, proxies, hooks, stream, verify, cert, json)\u001b[0m\n\u001b[0;32m    531\u001b[0m         }\n\u001b[0;32m    532\u001b[0m         \u001b[0msend_kwargs\u001b[0m\u001b[1;33m.\u001b[0m\u001b[0mupdate\u001b[0m\u001b[1;33m(\u001b[0m\u001b[0msettings\u001b[0m\u001b[1;33m)\u001b[0m\u001b[1;33m\u001b[0m\u001b[1;33m\u001b[0m\u001b[0m\n\u001b[1;32m--> 533\u001b[1;33m         \u001b[0mresp\u001b[0m \u001b[1;33m=\u001b[0m \u001b[0mself\u001b[0m\u001b[1;33m.\u001b[0m\u001b[0msend\u001b[0m\u001b[1;33m(\u001b[0m\u001b[0mprep\u001b[0m\u001b[1;33m,\u001b[0m \u001b[1;33m**\u001b[0m\u001b[0msend_kwargs\u001b[0m\u001b[1;33m)\u001b[0m\u001b[1;33m\u001b[0m\u001b[1;33m\u001b[0m\u001b[0m\n\u001b[0m\u001b[0;32m    534\u001b[0m \u001b[1;33m\u001b[0m\u001b[0m\n\u001b[0;32m    535\u001b[0m         \u001b[1;32mreturn\u001b[0m \u001b[0mresp\u001b[0m\u001b[1;33m\u001b[0m\u001b[1;33m\u001b[0m\u001b[0m\n",
      "\u001b[1;32m~\\anaconda3\\lib\\site-packages\\requests\\sessions.py\u001b[0m in \u001b[0;36msend\u001b[1;34m(self, request, **kwargs)\u001b[0m\n\u001b[0;32m    644\u001b[0m \u001b[1;33m\u001b[0m\u001b[0m\n\u001b[0;32m    645\u001b[0m         \u001b[1;31m# Send the request\u001b[0m\u001b[1;33m\u001b[0m\u001b[1;33m\u001b[0m\u001b[1;33m\u001b[0m\u001b[0m\n\u001b[1;32m--> 646\u001b[1;33m         \u001b[0mr\u001b[0m \u001b[1;33m=\u001b[0m \u001b[0madapter\u001b[0m\u001b[1;33m.\u001b[0m\u001b[0msend\u001b[0m\u001b[1;33m(\u001b[0m\u001b[0mrequest\u001b[0m\u001b[1;33m,\u001b[0m \u001b[1;33m**\u001b[0m\u001b[0mkwargs\u001b[0m\u001b[1;33m)\u001b[0m\u001b[1;33m\u001b[0m\u001b[1;33m\u001b[0m\u001b[0m\n\u001b[0m\u001b[0;32m    647\u001b[0m \u001b[1;33m\u001b[0m\u001b[0m\n\u001b[0;32m    648\u001b[0m         \u001b[1;31m# Total elapsed time of the request (approximately)\u001b[0m\u001b[1;33m\u001b[0m\u001b[1;33m\u001b[0m\u001b[1;33m\u001b[0m\u001b[0m\n",
      "\u001b[1;32m~\\anaconda3\\lib\\site-packages\\requests\\adapters.py\u001b[0m in \u001b[0;36msend\u001b[1;34m(self, request, stream, timeout, verify, cert, proxies)\u001b[0m\n\u001b[0;32m    514\u001b[0m                 \u001b[1;32mraise\u001b[0m \u001b[0mSSLError\u001b[0m\u001b[1;33m(\u001b[0m\u001b[0me\u001b[0m\u001b[1;33m,\u001b[0m \u001b[0mrequest\u001b[0m\u001b[1;33m=\u001b[0m\u001b[0mrequest\u001b[0m\u001b[1;33m)\u001b[0m\u001b[1;33m\u001b[0m\u001b[1;33m\u001b[0m\u001b[0m\n\u001b[0;32m    515\u001b[0m \u001b[1;33m\u001b[0m\u001b[0m\n\u001b[1;32m--> 516\u001b[1;33m             \u001b[1;32mraise\u001b[0m \u001b[0mConnectionError\u001b[0m\u001b[1;33m(\u001b[0m\u001b[0me\u001b[0m\u001b[1;33m,\u001b[0m \u001b[0mrequest\u001b[0m\u001b[1;33m=\u001b[0m\u001b[0mrequest\u001b[0m\u001b[1;33m)\u001b[0m\u001b[1;33m\u001b[0m\u001b[1;33m\u001b[0m\u001b[0m\n\u001b[0m\u001b[0;32m    517\u001b[0m \u001b[1;33m\u001b[0m\u001b[0m\n\u001b[0;32m    518\u001b[0m         \u001b[1;32mexcept\u001b[0m \u001b[0mClosedPoolError\u001b[0m \u001b[1;32mas\u001b[0m \u001b[0me\u001b[0m\u001b[1;33m:\u001b[0m\u001b[1;33m\u001b[0m\u001b[1;33m\u001b[0m\u001b[0m\n",
      "\u001b[1;31mConnectionError\u001b[0m: HTTPSConnectionPool(host='api.foursquare.com', port=443): Max retries exceeded with url: /v2/venues/explore?&client_id=IEO3BCOMPMVDENSQXFGQOO21FUGTKIV1ZX01F4LNKLV0PK25&client_secret=XNJPG4KKQYJR2ZJM1PFS1FBAOM3APZ32TT2KDDQ3QNBPWCV0&v=20180604&ll=43.7532586,-79.3296565&radius=500&limit=100 (Caused by NewConnectionError('<urllib3.connection.VerifiedHTTPSConnection object at 0x000001EB4A79DC88>: Failed to establish a new connection: [WinError 10051] A socket operation was attempted to an unreachable network'))"
     ]
    }
   ],
   "source": [
    "toronto_venues = getNearbyVenues(names=df['Neighborhood'],\n",
    "                                   latitudes=df['Latitude'],\n",
    "                                   longitudes=df['Longitude']\n",
    "                                  )"
   ]
  },
  {
   "cell_type": "code",
   "execution_count": 47,
   "metadata": {},
   "outputs": [
    {
     "ename": "NameError",
     "evalue": "name 'toronto_venues' is not defined",
     "output_type": "error",
     "traceback": [
      "\u001b[1;31m---------------------------------------------------------------------------\u001b[0m",
      "\u001b[1;31mNameError\u001b[0m                                 Traceback (most recent call last)",
      "\u001b[1;32m<ipython-input-47-bb5995a629c6>\u001b[0m in \u001b[0;36m<module>\u001b[1;34m\u001b[0m\n\u001b[1;32m----> 1\u001b[1;33m \u001b[0mprint\u001b[0m\u001b[1;33m(\u001b[0m\u001b[0mtoronto_venues\u001b[0m\u001b[1;33m.\u001b[0m\u001b[0mshape\u001b[0m\u001b[1;33m)\u001b[0m\u001b[1;33m\u001b[0m\u001b[1;33m\u001b[0m\u001b[0m\n\u001b[0m\u001b[0;32m      2\u001b[0m \u001b[0mtoronto_venues\u001b[0m\u001b[1;33m.\u001b[0m\u001b[0mhead\u001b[0m\u001b[1;33m(\u001b[0m\u001b[1;33m)\u001b[0m\u001b[1;33m\u001b[0m\u001b[1;33m\u001b[0m\u001b[0m\n",
      "\u001b[1;31mNameError\u001b[0m: name 'toronto_venues' is not defined"
     ]
    }
   ],
   "source": [
    "print(toronto_venues.shape)\n",
    "toronto_venues.head()"
   ]
  },
  {
   "cell_type": "code",
   "execution_count": null,
   "metadata": {},
   "outputs": [],
   "source": []
  }
 ],
 "metadata": {
  "kernelspec": {
   "display_name": "Python 3",
   "language": "python",
   "name": "python3"
  },
  "language_info": {
   "codemirror_mode": {
    "name": "ipython",
    "version": 3
   },
   "file_extension": ".py",
   "mimetype": "text/x-python",
   "name": "python",
   "nbconvert_exporter": "python",
   "pygments_lexer": "ipython3",
   "version": "3.7.6"
  }
 },
 "nbformat": 4,
 "nbformat_minor": 4
}
